{
 "cells": [
  {
   "cell_type": "markdown",
   "id": "5bdcba24-f45c-499f-92fd-1d0fc144f4fc",
   "metadata": {},
   "source": [
    "# **Group 11 - Dataset Creation - Big Data and Cloud Computing (ADSP 31013)**\n",
    "\n",
    "## Members:\n",
    "- #### **Andrew Rafael James** \n",
    "- #### **Aravind Shreyas Ramesh** \n",
    "- #### **Reethesh Venkatraman** \n",
    "- #### **Rohit Kumar** \n",
    "- #### **Sahil Bharwani**\n",
    "\n",
    "---\n",
    "\n",
    "### **Flight Delay Prediction:**\n",
    "*This project aims to identify drivers of delay of departures and arrival flights considering various factors including but not limited to origin, destination, distance, weather, taxi time, time, seasonality etc. and quantify the effect of these drivers.*"
   ]
  },
  {
   "cell_type": "code",
   "execution_count": 36,
   "id": "a7c88be0-047e-45ff-b74a-597fe7498fbd",
   "metadata": {},
   "outputs": [],
   "source": [
    "from pyspark.sql import SparkSession\n",
    "from pyspark.sql import functions as F\n",
    "from pyspark.sql.functions import col, radians, sin, cos, sqrt, atan2, lit, round, to_date, to_timestamp, date_format\n",
    "from pyspark.sql import Window\n",
    "import pandas as pd\n",
    "import numpy as np\n",
    "from pyspark.sql.types import DoubleType\n",
    "import math\n",
    "from pyspark.sql import Window\n",
    "\n",
    "import matplotlib.pyplot as plt\n",
    "%matplotlib inline"
   ]
  },
  {
   "cell_type": "code",
   "execution_count": 37,
   "id": "0288057c-67e2-43d6-a921-f32735bcfe6f",
   "metadata": {},
   "outputs": [],
   "source": [
    "#create Spark session\n",
    "spark = SparkSession.builder.appName('NearestAirportFinder').config(\"spark.sql.legacy.timeParserPolicy\", \"LEGACY\").getOrCreate()\n",
    "\n",
    "\n",
    "#change configuration settings on Spark \n",
    "conf = spark.sparkContext._conf.setAll([('spark.executor.memory', '4g'), ('spark.app.name', 'Spark Updated Conf'), ('spark.executor.cores', '4'), ('spark.cores.max', '4'), ('spark.driver.memory','4g')])\n",
    "\n",
    "#set log level\n",
    "spark.sparkContext.setLogLevel(\"ERROR\")"
   ]
  },
  {
   "cell_type": "code",
   "execution_count": 38,
   "id": "b97b89de-b61f-4a76-8795-4fd5a72b0a62",
   "metadata": {},
   "outputs": [
    {
     "name": "stderr",
     "output_type": "stream",
     "text": [
      "[Stage 69:=======================================================>(62 + 1) / 63]\r"
     ]
    },
    {
     "name": "stdout",
     "output_type": "stream",
     "text": [
      "CPU times: user 102 ms, sys: 20.3 ms, total: 123 ms\n",
      "Wall time: 1min 42s\n"
     ]
    },
    {
     "name": "stderr",
     "output_type": "stream",
     "text": [
      "                                                                                \r"
     ]
    }
   ],
   "source": [
    "%%time\n",
    "df_flight_2018 = spark.read.csv(\"gs://msca-bdp-student-gcs/Group11/Combined_Flights_2018.csv\", header=True, inferSchema=True)\n",
    "df_flight_2019 = spark.read.csv(\"gs://msca-bdp-student-gcs/Group11/Combined_Flights_2019.csv\", header=True, inferSchema=True)\n",
    "df_flight_2020 = spark.read.csv(\"gs://msca-bdp-student-gcs/Group11/Combined_Flights_2020.csv\", header=True, inferSchema=True)\n",
    "df_flight_2021 = spark.read.csv(\"gs://msca-bdp-student-gcs/Group11/Combined_Flights_2021.csv\", header=True, inferSchema=True)\n",
    "\n",
    "airports_df = spark.read.csv(\"gs://msca-bdp-student-gcs/Group11/airports_df.csv\", header=True, inferSchema=True)\n",
    "weather_df = spark.read.csv(\"gs://msca-bdp-student-gcs/Group11/dataset_weather.csv\", header=True, inferSchema=True)"
   ]
  },
  {
   "cell_type": "markdown",
   "id": "9d56bf14-e904-4dd8-89f1-4863223b1631",
   "metadata": {},
   "source": [
    "## **Combining all years**"
   ]
  },
  {
   "cell_type": "code",
   "execution_count": 39,
   "id": "fdb616c7-1389-4059-a26f-b29bfd6343e1",
   "metadata": {},
   "outputs": [],
   "source": [
    "df_flight = df_flight_2018.union(df_flight_2019).union(df_flight_2020).union(df_flight_2021)"
   ]
  },
  {
   "cell_type": "code",
   "execution_count": 40,
   "id": "f1dcd9e3-165f-45c6-8db7-fbcdf1f8ecd5",
   "metadata": {},
   "outputs": [
    {
     "name": "stderr",
     "output_type": "stream",
     "text": [
      "                                                                                \r"
     ]
    },
    {
     "data": {
      "text/plain": [
       "25115464"
      ]
     },
     "execution_count": 40,
     "metadata": {},
     "output_type": "execute_result"
    }
   ],
   "source": [
    "df_flight.count()"
   ]
  },
  {
   "cell_type": "markdown",
   "id": "38aa9e64-b829-48a3-8c21-52f6c0f8ac17",
   "metadata": {},
   "source": [
    "## **Filtering Weather Data Based on Analysis Time-Period**"
   ]
  },
  {
   "cell_type": "code",
   "execution_count": 41,
   "id": "ba625c19-ddc7-44ed-9ec5-2d5c090e60ad",
   "metadata": {},
   "outputs": [
    {
     "name": "stdout",
     "output_type": "stream",
     "text": [
      "CPU times: user 2.82 ms, sys: 541 µs, total: 3.36 ms\n",
      "Wall time: 21.8 ms\n"
     ]
    }
   ],
   "source": [
    "%%time\n",
    "weather_df = weather_df.withColumn(\"DATE\", to_date(col(\"DATE\"), \"MM/dd/yyyy\"))\n",
    "weather_df = weather_df.filter((col(\"DATE\").between(\"2018-01-01\", \"2021-12-31\")))"
   ]
  },
  {
   "cell_type": "code",
   "execution_count": 42,
   "id": "5ee67c91-23a3-4b3c-ace4-eabb4ade5028",
   "metadata": {},
   "outputs": [],
   "source": [
    "#weather_df.count() #31,723,696 for 4 years; #8,160,221 for 2020"
   ]
  },
  {
   "cell_type": "code",
   "execution_count": 43,
   "id": "7c0e419a-5e36-412b-b3c9-bf6e576c19e9",
   "metadata": {},
   "outputs": [
    {
     "name": "stderr",
     "output_type": "stream",
     "text": [
      "[Stage 78:================================>                         (5 + 4) / 9]\r"
     ]
    },
    {
     "name": "stdout",
     "output_type": "stream",
     "text": [
      "Total Airports: 387\n"
     ]
    },
    {
     "name": "stderr",
     "output_type": "stream",
     "text": [
      "                                                                                \r"
     ]
    }
   ],
   "source": [
    "unique_origins = (\n",
    "    df_flight.select(\"Origin\")\n",
    "    .union(df_flight.select(\"Dest\"))\n",
    "    .distinct()\n",
    ")\n",
    "\n",
    "filtered_airports_df = airports_df.join(unique_origins, airports_df[\"iata_code\"] == unique_origins[\"Origin\"], \"inner\")\n",
    "print(\"Total Airports:\" , len(filtered_airports_df.select(\"iata_code\").distinct().rdd.flatMap(lambda x: x).collect()))\n"
   ]
  },
  {
   "cell_type": "code",
   "execution_count": 44,
   "id": "72c4ed14-58df-49a2-863f-3d94800f438e",
   "metadata": {},
   "outputs": [],
   "source": [
    "__base32 = '0123456789bcdefghjkmnpqrstuvwxyz'\n",
    "__decodemap = { }\n",
    "for i in range(len(__base32)):\n",
    "    __decodemap[__base32[i]] = i\n",
    "del i\n",
    "\n",
    "def encode(latitude, longitude, precision=12):\n",
    "    \"\"\"\n",
    "    Encode a position given in float arguments latitude, longitude to\n",
    "    a geohash which will have the character count precision.\n",
    "    \"\"\"\n",
    "    lat_interval, lon_interval = (-90.0, 90.0), (-180.0, 180.0)\n",
    "    geohash = []\n",
    "    bits = [ 16, 8, 4, 2, 1 ]\n",
    "    bit = 0\n",
    "    ch = 0\n",
    "    even = True\n",
    "    while len(geohash) < precision:\n",
    "        if even:\n",
    "            mid = (lon_interval[0] + lon_interval[1]) / 2\n",
    "            if longitude > mid:\n",
    "                ch |= bits[bit]\n",
    "                lon_interval = (mid, lon_interval[1])\n",
    "            else:\n",
    "                lon_interval = (lon_interval[0], mid)\n",
    "        else:\n",
    "            mid = (lat_interval[0] + lat_interval[1]) / 2\n",
    "            if latitude > mid:\n",
    "                ch |= bits[bit]\n",
    "                lat_interval = (mid, lat_interval[1])\n",
    "            else:\n",
    "                lat_interval = (lat_interval[0], mid)\n",
    "        even = not even\n",
    "        if bit < 4:\n",
    "            bit += 1\n",
    "        else:\n",
    "            geohash += __base32[ch]\n",
    "            bit = 0\n",
    "            ch = 0\n",
    "    return ''.join(geohash)\n",
    "\n",
    "# Haversine distance function\n",
    "def haversine(lat1, lon1, lat2, lon2):\n",
    "    R = 6371  # Earth radius in km\n",
    "    phi1, phi2 = math.radians(lat1), math.radians(lat2)\n",
    "    delta_phi, delta_lambda = math.radians(lat2 - lat1), math.radians(lon2 - lon1)\n",
    "    a = (math.sin(delta_phi / 2) ** 2 +\n",
    "         math.cos(phi1) * math.cos(phi2) * math.sin(delta_lambda / 2) ** 2)\n",
    "    c = 2 * math.atan2(math.sqrt(a), math.sqrt(1 - a))\n",
    "    return R * c\n",
    "\n",
    "# Register haversine as a UDF\n",
    "haversine_udf = F.udf(haversine, DoubleType())\n",
    "\n",
    "# Define a function to generate geohash\n",
    "def generate_geohash(lat, lon, precision=5):\n",
    "#     return geohash.encode(lat, lon, precision)\n",
    "    return encode(lat, lon, precision)\n",
    "\n",
    "# Register the function as a UDF\n",
    "geohash_udf = F.udf(generate_geohash)"
   ]
  },
  {
   "cell_type": "markdown",
   "id": "f9f2083d-4401-4a02-a4a7-7b62eba85e03",
   "metadata": {},
   "source": [
    "# **Generate geohash for airports and weather data**"
   ]
  },
  {
   "cell_type": "code",
   "execution_count": 45,
   "id": "0123131e-340c-4eb9-aea8-50a64323e1d4",
   "metadata": {},
   "outputs": [],
   "source": [
    "filtered_airports_df = filtered_airports_df.withColumn(\"geohash\", geohash_udf(F.col(\"latitude_deg\"), F.col(\"longitude_deg\"), F.lit(4)))\n",
    "weather_df = weather_df.withColumn(\"geohash\", geohash_udf(F.col(\"latitude\"), F.col(\"longitude\"), F.lit(4)))"
   ]
  },
  {
   "cell_type": "markdown",
   "id": "5cf527ba-5693-4cab-9dc8-013cc527dfbb",
   "metadata": {},
   "source": [
    "# **Broadcast airports_df and join on geohash to filter nearby locations**"
   ]
  },
  {
   "cell_type": "code",
   "execution_count": 46,
   "id": "a0c246a6-67de-4050-a2e6-1432dfe4bef6",
   "metadata": {},
   "outputs": [],
   "source": [
    "airports_df_broadcasted = F.broadcast(filtered_airports_df)\n",
    "combined_df = airports_df_broadcasted.join(weather_df, on=\"geohash\", how=\"inner\")"
   ]
  },
  {
   "cell_type": "markdown",
   "id": "9b0d4218-7695-4948-ba7a-70798bb67088",
   "metadata": {},
   "source": [
    "# **Calculate the distance between each airport and weather point in filtered set**"
   ]
  },
  {
   "cell_type": "code",
   "execution_count": 47,
   "id": "79b117df-24d1-487d-b8b7-fbd180dd171e",
   "metadata": {},
   "outputs": [],
   "source": [
    "combined_df = combined_df.withColumn(\"Distance\",\n",
    "    haversine_udf(F.col(\"latitude_deg\"), F.col(\"longitude_deg\"), F.col(\"latitude\"), F.col(\"longitude\"))\n",
    ")"
   ]
  },
  {
   "cell_type": "code",
   "execution_count": 48,
   "id": "42c09b9c-d41f-4d64-95f3-712923116eed",
   "metadata": {},
   "outputs": [],
   "source": [
    "#combined_df.count()"
   ]
  },
  {
   "cell_type": "markdown",
   "id": "f555abca-9fe3-4197-a959-ec120291c51e",
   "metadata": {},
   "source": [
    "# **Define a window partitioned by iata_code, municipality, and Date, ordered by Distance and filter closest weather data point for each group**"
   ]
  },
  {
   "cell_type": "code",
   "execution_count": 49,
   "id": "90b29407-04f6-4360-8c32-1ab8e1f98dce",
   "metadata": {},
   "outputs": [],
   "source": [
    "window_spec = Window.partitionBy(\"iata_code\", \"municipality\", \"Date\").orderBy(\"Distance\")\n",
    "\n",
    "combined_df_with_min_dist = combined_df.withColumn(\"row_num\", F.row_number().over(window_spec))\n",
    "\n",
    "closest_weather_df_2 = combined_df_with_min_dist.filter(F.col(\"row_num\") == 1).select(\n",
    "    \"iata_code\",\n",
    "    \"municipality\",\n",
    "    \"Date\",\n",
    "    \"TMAX\",\n",
    "    \"TMIN\",\n",
    "    \"PRCP\",\n",
    "    \"Distance\",\n",
    "    \"latitude_deg\",   # airport latitude\n",
    "    \"longitude_deg\",  # airport longitude\n",
    "    \"latitude\",       # weather latitude\n",
    "    \"longitude\"       # weather longitude\n",
    ").withColumnRenamed(\"Distance\", \"hvs_distance\") \\\n",
    " .withColumnRenamed(\"latitude_deg\", \"airport_latitude\") \\\n",
    " .withColumnRenamed(\"longitude_deg\", \"airport_longitude\") \\\n",
    " .withColumnRenamed(\"latitude\", \"weather_latitude\") \\\n",
    " .withColumnRenamed(\"longitude\", \"weather_longitude\")"
   ]
  },
  {
   "cell_type": "code",
   "execution_count": 50,
   "id": "e4090b1d-56f3-4781-abc3-9e51127e0cf5",
   "metadata": {},
   "outputs": [],
   "source": [
    "\n",
    "final_combined_df = df_flight.join(closest_weather_df_2,\n",
    "                                     (df_flight.Origin == closest_weather_df_2.iata_code) &\n",
    "                                     (df_flight.FlightDate == closest_weather_df_2.Date),\n",
    "                                     how=\"left\")\n"
   ]
  },
  {
   "cell_type": "code",
   "execution_count": 51,
   "id": "9900ecd9-75b0-491e-8acb-44f6f4567a30",
   "metadata": {},
   "outputs": [],
   "source": [
    "columns_to_rename = {\"Date\": \"Date_origin\", \n",
    "                     \"TMAX\": \"TMAX_origin\", \n",
    "                     \"TMIN\": \"TMIN_origin\", \n",
    "                     \"PRCP\": \"PRCP_origin\", \n",
    "                     \"hvs_distance\": \"hvs_distance_origin\", \n",
    "                     \"airport_latitude\": \"airport_latitude_origin\", \n",
    "                     \"airport_longitude\": \"airport_longitude_origin\", \n",
    "                     \"weather_latitude\": \"weather_latitude_origin\", \n",
    "                     \"weather_longitude\": \"weather_longitude_origin\", \n",
    "                     \"iata_code\": \"iata_code_origin\", \n",
    "                     \"municipality\": \"municipality_origin\"}\n",
    "\n",
    "for old_col, new_col in columns_to_rename.items():\n",
    "    final_combined_df = final_combined_df.withColumnRenamed(old_col, new_col)\n"
   ]
  },
  {
   "cell_type": "code",
   "execution_count": 52,
   "id": "c3d8cab7-84b3-4661-999a-0db15c84a6d0",
   "metadata": {},
   "outputs": [],
   "source": [
    "final_combined_df = final_combined_df.join(closest_weather_df_2,\n",
    "                                     (df_flight.Dest == closest_weather_df_2.iata_code) &\n",
    "                                     (df_flight.FlightDate == closest_weather_df_2.Date),\n",
    "                                     how=\"left\")"
   ]
  },
  {
   "cell_type": "code",
   "execution_count": 53,
   "id": "c30d8f74-cca1-48f3-8781-ae41b177b3b6",
   "metadata": {},
   "outputs": [],
   "source": [
    "columns_to_rename = {\"Date\": \"Date_dest\", \n",
    "                     \"TMAX\": \"TMAX_dest\", \n",
    "                     \"TMIN\": \"TMIN_dest\", \n",
    "                     \"PRCP\": \"PRCP_dest\", \n",
    "                     \"hvs_distance\": \"hvs_distance_dest\", \n",
    "                     \"airport_latitude\": \"airport_latitude_dest\", \n",
    "                     \"airport_longitude\": \"airport_longitude_dest\", \n",
    "                     \"weather_latitude\": \"weather_latitude_dest\", \n",
    "                     \"weather_longitude\": \"weather_longitude_dest\", \n",
    "                     \"iata_code\": \"iata_code_dest\", \n",
    "                     \"municipality\": \"municipality_dest\"}\n",
    "\n",
    "for old_col, new_col in columns_to_rename.items():\n",
    "    final_combined_df = final_combined_df.withColumnRenamed(old_col, new_col)\n"
   ]
  },
  {
   "cell_type": "code",
   "execution_count": 54,
   "id": "4574d57f-0321-4b57-85df-0327019b9328",
   "metadata": {},
   "outputs": [],
   "source": [
    "#final_combined_df.count()"
   ]
  },
  {
   "cell_type": "markdown",
   "id": "4640bfbb-57b9-45cf-aa62-8fa45433043b",
   "metadata": {},
   "source": [
    "## **Save to specified path**"
   ]
  },
  {
   "cell_type": "code",
   "execution_count": 55,
   "id": "fab4fe3c-22bd-4198-b6f2-b57d2625721a",
   "metadata": {},
   "outputs": [],
   "source": [
    "# Set GCS location where the Parquet file will be saved\n",
    "#gcs_path = \"gs://msca-bdp-student-gcs/Group11/flight_weather_joined_2018_2021_v2.parquet\"\n",
    "\n",
    "# Save the DataFrame as a Parquet file to GCS\n",
    "#final_combined_df.write.mode(\"overwrite\").parquet(gcs_path)"
   ]
  }
 ],
 "metadata": {
  "kernelspec": {
   "display_name": "Python 3 (ipykernel)",
   "language": "python",
   "name": "python3"
  },
  "language_info": {
   "codemirror_mode": {
    "name": "ipython",
    "version": 3
   },
   "file_extension": ".py",
   "mimetype": "text/x-python",
   "name": "python",
   "nbconvert_exporter": "python",
   "pygments_lexer": "ipython3",
   "version": "3.12.4"
  }
 },
 "nbformat": 4,
 "nbformat_minor": 5
}
