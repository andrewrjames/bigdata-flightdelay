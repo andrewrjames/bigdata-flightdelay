{
 "cells": [
  {
   "cell_type": "markdown",
   "id": "126749ec-a90c-47ab-b067-dd71a68bf27b",
   "metadata": {},
   "source": [
    "# **Group 11 - Modelling - Big Data and Cloud Computing (ADSP 31013)**\n",
    "\n",
    "## Members:\n",
    "- #### **Andrew Rafael James** \n",
    "- #### **Aravind Shreyas Ramesh** \n",
    "- #### **Reethesh Venkatraman** \n",
    "- #### **Rohit Kumar** \n",
    "- #### **Sahil Bharwani**\n",
    "\n",
    "---\n",
    "\n",
    "### **Flight Delay Prediction:**\n",
    "*This project aims to identify drivers of delay of departures and arrival flights considering various factors including but not limited to origin, destination, distance, weather, taxi time, time, seasonality etc. and quantify the effect of these drivers.*"
   ]
  },
  {
   "cell_type": "code",
   "execution_count": 1,
   "id": "287af7f0-a213-4551-8b7a-72a46af7b593",
   "metadata": {},
   "outputs": [],
   "source": [
    "from pyspark.sql import SparkSession\n",
    "from pyspark.sql import functions as F\n",
    "from pyspark.sql.functions import col, radians, sin, cos, sqrt, atan2, lit, round, to_date, to_timestamp, date_format\n",
    "from pyspark.sql import Window\n",
    "import pandas as pd\n",
    "import numpy as np\n",
    "from pyspark.sql.types import DoubleType\n",
    "import math\n",
    "from pyspark.sql import Window\n",
    "from pyspark.sql.functions import col, when, avg, count, month, dayofmonth, year, desc, rank, when, sum\n",
    "from pyspark.sql.functions import col, corr, desc\n",
    "from pyspark.ml.feature import OneHotEncoder, StringIndexer\n",
    "from pyspark.sql.functions import avg\n",
    "from pyspark.ml import Pipeline\n",
    "from pyspark.ml.feature import VectorAssembler\n",
    "from pyspark.ml.classification import RandomForestClassifier\n",
    "from pyspark.ml.evaluation import BinaryClassificationEvaluator\n",
    "from pyspark.sql.functions import hour, minute, floor\n",
    "from pyspark.ml.evaluation import MulticlassClassificationEvaluator\n",
    "import logging\n",
    "from pyspark.ml.tuning import CrossValidator, ParamGridBuilder\n",
    "from pyspark.ml.classification import GBTClassifier\n",
    "from pyspark.ml.classification import LogisticRegression\n",
    "from pyspark.ml.classification import DecisionTreeClassifier\n",
    "from pyspark.ml.feature import StandardScaler\n",
    "from sklearn.ensemble import RandomForestClassifier as SklearnRF\n",
    "from pyspark.ml.functions import vector_to_array\n",
    "from pyspark.ml.classification import RandomForestClassificationModel,GBTClassificationModel,DecisionTreeClassificationModel,LogisticRegressionModel\n",
    "from pyspark.sql.functions import udf, col, when\n",
    "from pyspark.ml.linalg import VectorUDT\n",
    "from pyspark.sql.types import DoubleType\n",
    "\n",
    "# import geohash\n",
    "# import pygeohash as pgh\n",
    "\n",
    "# from geopy.distance import geodesic\n",
    "# from scipy.spatial import KDTree\n",
    "\n",
    "import matplotlib.pyplot as plt\n",
    "%matplotlib inline"
   ]
  },
  {
   "cell_type": "code",
   "execution_count": 2,
   "id": "1dc687ec-72b8-4432-a24e-16a28189c7ef",
   "metadata": {},
   "outputs": [],
   "source": [
    "#create Spark session\n",
    "spark = SparkSession.builder.appName('EDA').config(\"spark.sql.legacy.timeParserPolicy\", \"LEGACY\").getOrCreate()\n",
    "\n",
    "\n",
    "#change configuration settings on Spark \n",
    "conf = spark.sparkContext._conf.setAll([('spark.executor.memory', '16g'), ('spark.app.name', 'Spark Updated Conf'), ('spark.executor.cores', '8'), ('spark.cores.max', '8'), ('spark.driver.memory','16g')])\n",
    "\n",
    "#set log level\n",
    "spark.sparkContext.setLogLevel(\"ERROR\")"
   ]
  },
  {
   "cell_type": "code",
   "execution_count": 3,
   "id": "2ad90eb1-37b1-464f-8eab-f5b6cd954e02",
   "metadata": {},
   "outputs": [],
   "source": [
    "logger = logging.getLogger(\"py4j\")\n",
    "logger.setLevel(logging.ERROR)\n",
    "\n",
    "log4jLogger = spark._jvm.org.apache.log4j\n",
    "log4jLogger.LogManager.getLogger(\"org.apache.spark.scheduler.DAGScheduler\").setLevel(log4jLogger.Level.ERROR)"
   ]
  },
  {
   "cell_type": "code",
   "execution_count": 4,
   "id": "66cb90fd-b2c9-4a44-8f8d-fce853eb415e",
   "metadata": {},
   "outputs": [
    {
     "name": "stderr",
     "output_type": "stream",
     "text": [
      "                                                                                \r"
     ]
    },
    {
     "data": {
      "text/plain": [
       "25115464"
      ]
     },
     "execution_count": 4,
     "metadata": {},
     "output_type": "execute_result"
    }
   ],
   "source": [
    "# GCS path to the Parquet file\n",
    "gcs_path = \"gs://msca-bdp-student-gcs/Group11/flight_weather_joined_2018_2021_v2.parquet\"\n",
    "\n",
    "# Read the Parquet file into a DataFrame\n",
    "df = spark.read.parquet(gcs_path)\n",
    "\n",
    "# Show the first few rows of the DataFrame\n",
    "df.count()"
   ]
  },
  {
   "cell_type": "code",
   "execution_count": 5,
   "id": "90ef5821-44b0-4da5-936c-7d99650cd9e4",
   "metadata": {},
   "outputs": [
    {
     "name": "stdout",
     "output_type": "stream",
     "text": [
      "['FlightDate', 'Airline', 'Origin', 'Dest', 'Cancelled', 'Diverted', 'CRSDepTime', 'DepTime', 'DepDelayMinutes', 'DepDelay', 'ArrTime', 'ArrDelayMinutes', 'AirTime', 'CRSElapsedTime', 'ActualElapsedTime', 'Distance', 'Year', 'Quarter', 'Month', 'DayofMonth', 'DayOfWeek', 'Marketing_Airline_Network', 'Operated_or_Branded_Code_Share_Partners', 'DOT_ID_Marketing_Airline', 'IATA_Code_Marketing_Airline', 'Flight_Number_Marketing_Airline', 'Operating_Airline', 'DOT_ID_Operating_Airline', 'IATA_Code_Operating_Airline', 'Tail_Number', 'Flight_Number_Operating_Airline', 'OriginAirportID', 'OriginAirportSeqID', 'OriginCityMarketID', 'OriginCityName', 'OriginState', 'OriginStateFips', 'OriginStateName', 'OriginWac', 'DestAirportID', 'DestAirportSeqID', 'DestCityMarketID', 'DestCityName', 'DestState', 'DestStateFips', 'DestStateName', 'DestWac', 'DepDel15', 'DepartureDelayGroups', 'DepTimeBlk', 'TaxiOut', 'WheelsOff', 'WheelsOn', 'TaxiIn', 'CRSArrTime', 'ArrDelay', 'ArrDel15', 'ArrivalDelayGroups', 'ArrTimeBlk', 'DistanceGroup', 'DivAirportLandings', 'iata_code_origin', 'municipality_origin', 'Date_origin', 'TMAX_origin', 'TMIN_origin', 'PRCP_origin', 'hvs_distance_origin', 'airport_latitude_origin', 'airport_longitude_origin', 'weather_latitude_origin', 'weather_longitude_origin', 'iata_code_dest', 'municipality_dest', 'Date_dest', 'TMAX_dest', 'TMIN_dest', 'PRCP_dest', 'hvs_distance_dest', 'airport_latitude_dest', 'airport_longitude_dest', 'weather_latitude_dest', 'weather_longitude_dest']\n"
     ]
    }
   ],
   "source": [
    "print(df.columns)"
   ]
  },
  {
   "cell_type": "markdown",
   "id": "018c3e99-ebca-4b9e-b1b8-3c3464d629be",
   "metadata": {},
   "source": [
    "# **Feature Engineering**"
   ]
  },
  {
   "cell_type": "code",
   "execution_count": 6,
   "id": "4ed85759-d01e-42d7-953f-a0748d7a4276",
   "metadata": {},
   "outputs": [
    {
     "name": "stderr",
     "output_type": "stream",
     "text": [
      "                                                                                \r"
     ]
    },
    {
     "data": {
      "text/plain": [
       "28"
      ]
     },
     "execution_count": 6,
     "metadata": {},
     "output_type": "execute_result"
    }
   ],
   "source": [
    "df_model = df\n",
    "df_model.select(\"Airline\").distinct().count() #28\n"
   ]
  },
  {
   "cell_type": "code",
   "execution_count": 7,
   "id": "bd058558-6660-4100-9e45-c2cb65916808",
   "metadata": {},
   "outputs": [
    {
     "name": "stderr",
     "output_type": "stream",
     "text": [
      "                                                                                \r"
     ]
    },
    {
     "name": "stdout",
     "output_type": "stream",
     "text": [
      "+-------------------------+\n",
      "|Marketing_Airline_Network|\n",
      "+-------------------------+\n",
      "|                       UA|\n",
      "|                       NK|\n",
      "+-------------------------+\n",
      "only showing top 2 rows\n",
      "\n"
     ]
    }
   ],
   "source": [
    "df_model.select(\"Marketing_Airline_Network\").distinct().show(2) #11"
   ]
  },
  {
   "cell_type": "code",
   "execution_count": 8,
   "id": "2ccb9a31-8d3a-4aff-a723-16cfc1b832da",
   "metadata": {},
   "outputs": [
    {
     "name": "stderr",
     "output_type": "stream",
     "text": [
      "[Stage 15:===================================================>    (12 + 1) / 13]\r"
     ]
    },
    {
     "name": "stdout",
     "output_type": "stream",
     "text": [
      "+---------------------------------------+\n",
      "|Operated_or_Branded_Code_Share_Partners|\n",
      "+---------------------------------------+\n",
      "|                                     UA|\n",
      "|                                     NK|\n",
      "+---------------------------------------+\n",
      "only showing top 2 rows\n",
      "\n"
     ]
    },
    {
     "name": "stderr",
     "output_type": "stream",
     "text": [
      "                                                                                \r"
     ]
    }
   ],
   "source": [
    "df_model.select(\"Operated_or_Branded_Code_Share_Partners\").distinct().show(2) #16"
   ]
  },
  {
   "cell_type": "code",
   "execution_count": 9,
   "id": "f1a5002a-fddf-4061-aa69-fc92b9deb220",
   "metadata": {},
   "outputs": [
    {
     "name": "stderr",
     "output_type": "stream",
     "text": [
      "                                                                                \r"
     ]
    },
    {
     "name": "stdout",
     "output_type": "stream",
     "text": [
      "+-----------------+-----------------+\n",
      "|          Airline|Operating_Airline|\n",
      "+-----------------+-----------------+\n",
      "|      Comair Inc.|               OH|\n",
      "|Republic Airlines|               YX|\n",
      "+-----------------+-----------------+\n",
      "only showing top 2 rows\n",
      "\n"
     ]
    }
   ],
   "source": [
    "df_model.select(\"Airline\", \"Operating_Airline\").distinct().show(2) #28 # 1 to 1 mapping"
   ]
  },
  {
   "cell_type": "code",
   "execution_count": 10,
   "id": "ce134a12-e6df-4a9d-8c96-3cdc00a5cc89",
   "metadata": {},
   "outputs": [
    {
     "name": "stdout",
     "output_type": "stream",
     "text": [
      "+--------------------+----------+--------------+----------+--------+----+-------+-----+----------+---------+-------------------------+-----------+-----------------------+------------------------+---------+---------------------+----------------------+--------+\n",
      "|             Airline|CRSDepTime|CRSElapsedTime|CRSArrTime|Distance|Year|Quarter|Month|DayofMonth|DayOfWeek|Marketing_Airline_Network|PRCP_origin|airport_latitude_origin|airport_longitude_origin|PRCP_dest|airport_latitude_dest|airport_longitude_dest|DepDel15|\n",
      "+--------------------+----------+--------------+----------+--------+----+-------+-----+----------+---------+-------------------------+-----------+-----------------------+------------------------+---------+---------------------+----------------------+--------+\n",
      "|ExpressJet Airlin...|      1515|         124.0|      1719|   692.0|2018|      1|    1|         7|        7|                       DL|          0|                33.6367|              -84.428101|        0|            40.651773|            -75.442797|     0.0|\n",
      "|Delta Air Lines Inc.|      2130|         127.0|      2337|   692.0|2018|      1|    1|         7|        7|                       DL|          0|                33.6367|              -84.428101|        0|            40.651773|            -75.442797|     0.0|\n",
      "+--------------------+----------+--------------+----------+--------+----+-------+-----+----------+---------+-------------------------+-----------+-----------------------+------------------------+---------+---------------------+----------------------+--------+\n",
      "only showing top 2 rows\n",
      "\n"
     ]
    }
   ],
   "source": [
    "selected_features = [\n",
    "    'Airline', 'CRSDepTime', 'CRSElapsedTime', 'CRSArrTime', 'Distance', \n",
    "    'Year', 'Quarter', 'Month', 'DayofMonth', 'DayOfWeek', \n",
    "    'Marketing_Airline_Network', \n",
    "    'PRCP_origin', 'airport_latitude_origin', 'airport_longitude_origin',  \n",
    "    'PRCP_dest', 'airport_latitude_dest', 'airport_longitude_dest']\n",
    "target = 'DepDel15'\n",
    "\n",
    "df_model.select(selected_features + [target]).show(2)"
   ]
  },
  {
   "cell_type": "code",
   "execution_count": 11,
   "id": "2e825049-20e4-4774-9b26-89b269a03564",
   "metadata": {},
   "outputs": [
    {
     "name": "stderr",
     "output_type": "stream",
     "text": [
      "[Stage 26:===============================================>        (11 + 2) / 13]\r"
     ]
    },
    {
     "name": "stdout",
     "output_type": "stream",
     "text": [
      "CPU times: user 61.3 ms, sys: 16.4 ms, total: 77.7 ms\n",
      "Wall time: 6.35 s\n"
     ]
    },
    {
     "name": "stderr",
     "output_type": "stream",
     "text": [
      "                                                                                \r"
     ]
    },
    {
     "data": {
      "text/plain": [
       "0  Airline_fill_rate                      1.000000\n",
       "   CRSDepTime_fill_rate                   1.000000\n",
       "   CRSElapsedTime_fill_rate               0.999999\n",
       "   CRSArrTime_fill_rate                   1.000000\n",
       "   Distance_fill_rate                     1.000000\n",
       "   Year_fill_rate                         1.000000\n",
       "   Quarter_fill_rate                      1.000000\n",
       "   Month_fill_rate                        1.000000\n",
       "   DayofMonth_fill_rate                   1.000000\n",
       "   DayOfWeek_fill_rate                    1.000000\n",
       "   Marketing_Airline_Network_fill_rate    1.000000\n",
       "   PRCP_origin_fill_rate                  0.989426\n",
       "   airport_latitude_origin_fill_rate      0.993593\n",
       "   airport_longitude_origin_fill_rate     0.993593\n",
       "   PRCP_dest_fill_rate                    0.989422\n",
       "   airport_latitude_dest_fill_rate        0.993592\n",
       "   airport_longitude_dest_fill_rate       0.993592\n",
       "   DepDel15_fill_rate                     0.974415\n",
       "dtype: float64"
      ]
     },
     "execution_count": 11,
     "metadata": {},
     "output_type": "execute_result"
    }
   ],
   "source": [
    "%%time\n",
    "columns_to_check = selected_features + [target]\n",
    "\n",
    "fill_rate_exprs = [\n",
    "    (F.count(F.when(F.col(col).isNotNull(), 1)) / F.count(\"*\")).alias(f\"{col}_fill_rate\") \n",
    "    for col in columns_to_check\n",
    "]\n",
    "\n",
    "fill_rate_df = df_model.select(*fill_rate_exprs)\n",
    "\n",
    "fill_rate_df.toPandas().stack()"
   ]
  },
  {
   "cell_type": "code",
   "execution_count": 12,
   "id": "94241179-9c04-4a5a-a958-514a0ca35d74",
   "metadata": {},
   "outputs": [
    {
     "name": "stderr",
     "output_type": "stream",
     "text": [
      "                                                                                \r"
     ]
    },
    {
     "data": {
      "text/plain": [
       "0  Airline_fill_rate                      1.0\n",
       "   CRSDepTime_fill_rate                   1.0\n",
       "   CRSElapsedTime_fill_rate               1.0\n",
       "   CRSArrTime_fill_rate                   1.0\n",
       "   Distance_fill_rate                     1.0\n",
       "   Year_fill_rate                         1.0\n",
       "   Quarter_fill_rate                      1.0\n",
       "   Month_fill_rate                        1.0\n",
       "   DayofMonth_fill_rate                   1.0\n",
       "   DayOfWeek_fill_rate                    1.0\n",
       "   Marketing_Airline_Network_fill_rate    1.0\n",
       "   PRCP_origin_fill_rate                  1.0\n",
       "   airport_latitude_origin_fill_rate      1.0\n",
       "   airport_longitude_origin_fill_rate     1.0\n",
       "   PRCP_dest_fill_rate                    1.0\n",
       "   airport_latitude_dest_fill_rate        1.0\n",
       "   airport_longitude_dest_fill_rate       1.0\n",
       "   DepDel15_fill_rate                     1.0\n",
       "dtype: float64"
      ]
     },
     "execution_count": 12,
     "metadata": {},
     "output_type": "execute_result"
    }
   ],
   "source": [
    "df_model_non_null = df_model.select(selected_features + [target]).na.drop()\n",
    "\n",
    "fill_rate_df = df_model_non_null.select(*fill_rate_exprs)\n",
    "fill_rate_df.toPandas().stack()"
   ]
  },
  {
   "cell_type": "markdown",
   "id": "ccd4a922-1467-4a97-a8e3-0196e80cd663",
   "metadata": {},
   "source": [
    "## *Encoding Columns that have String Values*"
   ]
  },
  {
   "cell_type": "code",
   "execution_count": 13,
   "id": "69b197ef-d288-4e99-8dcb-968ad66b3348",
   "metadata": {},
   "outputs": [
    {
     "name": "stderr",
     "output_type": "stream",
     "text": [
      "                                                                                \r"
     ]
    },
    {
     "name": "stdout",
     "output_type": "stream",
     "text": [
      "+--------------------+-------------+---------------+-------------------------+-------------------------------+-----------------------------+\n",
      "|             Airline|Airline_Index|    Airline_OHE|Marketing_Airline_Network|Marketing_Airline_Network_Index|Marketing_Airline_Network_OHE|\n",
      "+--------------------+-------------+---------------+-------------------------+-------------------------------+-----------------------------+\n",
      "|ExpressJet Airlin...|         16.0|(27,[16],[1.0])|                       DL|                            2.0|               (11,[2],[1.0])|\n",
      "|Delta Air Lines Inc.|          1.0| (27,[1],[1.0])|                       DL|                            2.0|               (11,[2],[1.0])|\n",
      "+--------------------+-------------+---------------+-------------------------+-------------------------------+-----------------------------+\n",
      "only showing top 2 rows\n",
      "\n"
     ]
    },
    {
     "name": "stderr",
     "output_type": "stream",
     "text": [
      "                                                                                \r"
     ]
    }
   ],
   "source": [
    "categorical_columns = [\"Airline\", \"Marketing_Airline_Network\"]\n",
    "\n",
    "indexers = [\n",
    "    StringIndexer(inputCol=col, outputCol=f\"{col}_Index\", handleInvalid=\"keep\")\n",
    "    for col in categorical_columns\n",
    "]\n",
    "\n",
    "encoders = [\n",
    "    OneHotEncoder(inputCol=f\"{col}_Index\", outputCol=f\"{col}_OHE\") \n",
    "    for col in categorical_columns\n",
    "]\n",
    "\n",
    "pipeline = Pipeline(stages=indexers + encoders)\n",
    "\n",
    "pipeline_model = pipeline.fit(df_model_non_null)\n",
    "df_encoded = pipeline_model.transform(df_model_non_null)\n",
    "\n",
    "df_encoded.select(\"Airline\", \"Airline_Index\", \"Airline_OHE\", \"Marketing_Airline_Network\", \n",
    "                  \"Marketing_Airline_Network_Index\", \"Marketing_Airline_Network_OHE\").show(2)"
   ]
  },
  {
   "cell_type": "code",
   "execution_count": 14,
   "id": "6a1a53ec-0e69-4c82-9a5f-912169435442",
   "metadata": {},
   "outputs": [
    {
     "name": "stdout",
     "output_type": "stream",
     "text": [
      "['Airline', 'CRSDepTime', 'CRSElapsedTime', 'CRSArrTime', 'Distance', 'Year', 'Quarter', 'Month', 'DayofMonth', 'DayOfWeek', 'Marketing_Airline_Network', 'PRCP_origin', 'airport_latitude_origin', 'airport_longitude_origin', 'PRCP_dest', 'airport_latitude_dest', 'airport_longitude_dest', 'DepDel15', 'Airline_Index', 'Marketing_Airline_Network_Index', 'Airline_OHE', 'Marketing_Airline_Network_OHE']\n",
      "+----------+----------+----------+----------+\n",
      "|CRSDepHour|CRSDepTime|CRSArrHour|CRSArrTime|\n",
      "+----------+----------+----------+----------+\n",
      "|        15|      1515|        17|      1719|\n",
      "|        21|      2130|        23|      2337|\n",
      "|        13|      1345|        16|      1643|\n",
      "|        15|      1525|        17|      1705|\n",
      "|        20|      2026|        22|      2212|\n",
      "+----------+----------+----------+----------+\n",
      "only showing top 5 rows\n",
      "\n"
     ]
    }
   ],
   "source": [
    "print(df_encoded.columns)\n",
    "df_encoded = df_encoded.withColumn(\"CRSDepHour\", floor(col(\"CRSDepTime\") / 100))\n",
    "df_encoded = df_encoded.withColumn(\"CRSArrHour\", floor(col(\"CRSArrTime\") / 100))\n",
    "\n",
    "df_encoded.select('CRSDepHour', 'CRSDepTime', 'CRSArrHour', 'CRSArrTime').show(5)"
   ]
  },
  {
   "cell_type": "markdown",
   "id": "4d83e76b-46a7-4854-bf74-4cac584a4913",
   "metadata": {},
   "source": [
    "# **1. Classification Models - To predict delay in departure**"
   ]
  },
  {
   "cell_type": "markdown",
   "id": "ee6b6ac8-d393-4f66-b5c4-ef2caf0c1b69",
   "metadata": {},
   "source": [
    "### **1.1 Random Forest**"
   ]
  },
  {
   "cell_type": "code",
   "execution_count": 15,
   "id": "0068f60a-7bb3-4a52-addc-0c7b7226c272",
   "metadata": {},
   "outputs": [
    {
     "name": "stderr",
     "output_type": "stream",
     "text": [
      "                                                                                \r"
     ]
    }
   ],
   "source": [
    "model_path = \"gs://msca-bdp-student-gcs/Group11/Classification/DepDel15_RF_model_rohit_v2\"\n",
    "rf_model = RandomForestClassificationModel.load(model_path)"
   ]
  },
  {
   "cell_type": "code",
   "execution_count": 16,
   "id": "876aa5b3-b85b-49a7-a020-9ce55ef127c0",
   "metadata": {},
   "outputs": [
    {
     "name": "stderr",
     "output_type": "stream",
     "text": [
      "[Stage 57:===================================================>    (12 + 1) / 13]\r"
     ]
    },
    {
     "name": "stdout",
     "output_type": "stream",
     "text": [
      "Accuracy: 0.8349\n",
      "Precision: 0.6971\n",
      "Recall: 0.8349\n",
      "F1 Score: 0.7598\n",
      "CPU times: user 102 ms, sys: 21.8 ms, total: 123 ms\n",
      "Wall time: 2min 29s\n"
     ]
    },
    {
     "name": "stderr",
     "output_type": "stream",
     "text": [
      "                                                                                \r"
     ]
    }
   ],
   "source": [
    "%%time\n",
    "\n",
    "features = [x for x in df_encoded.columns if x not in [target, 'Airline', 'Marketing_Airline_Network', 'CRSDepTime', 'CRSArrTime']]\n",
    "\n",
    "assembler = VectorAssembler(inputCols=features, outputCol=\"features\")\n",
    "df_prepared = assembler.transform(df_encoded)\n",
    "\n",
    "train_df, test_df = df_prepared.randomSplit([0.8, 0.2], seed=42)\n",
    "\n",
    "rf = RandomForestClassifier(\n",
    "    featuresCol=\"features\", \n",
    "    labelCol=target, \n",
    "    numTrees=100, \n",
    "    maxDepth=7, \n",
    "#     maxBins=32,\n",
    "#     minInstancesPerNode=5, \n",
    "#     minInfoGain=0.01, \n",
    "#     featureSubsetStrategy=\"sqrt\", \n",
    "    seed=42\n",
    ")\n",
    "\n",
    "#\"Un-comment\" the below line when you need to retrain the model\n",
    "\n",
    "# rf_model = rf.fit(train_df)\n",
    "\n",
    "predictions = rf_model.transform(test_df)\n",
    "\n",
    "evaluator_accuracy = MulticlassClassificationEvaluator(labelCol=target, metricName=\"accuracy\")\n",
    "evaluator_precision = MulticlassClassificationEvaluator(labelCol=target, metricName=\"weightedPrecision\")\n",
    "evaluator_recall = MulticlassClassificationEvaluator(labelCol=target, metricName=\"weightedRecall\")\n",
    "evaluator_f1 = MulticlassClassificationEvaluator(labelCol=target, metricName=\"f1\")\n",
    "\n",
    "accuracy = evaluator_accuracy.evaluate(predictions)\n",
    "precision = evaluator_precision.evaluate(predictions)\n",
    "recall = evaluator_recall.evaluate(predictions)\n",
    "f1_score = evaluator_f1.evaluate(predictions)\n",
    "\n",
    "print(f\"Accuracy: {accuracy:.4f}\")\n",
    "print(f\"Precision: {precision:.4f}\")\n",
    "print(f\"Recall: {recall:.4f}\")\n",
    "print(f\"F1 Score: {f1_score:.4f}\")\n"
   ]
  },
  {
   "cell_type": "code",
   "execution_count": 17,
   "id": "938be600-ad7c-4683-883f-90d278df74da",
   "metadata": {},
   "outputs": [
    {
     "data": {
      "image/png": "[encoded data removed]",
      "text/plain": [
       "<Figure size 1200x800 with 1 Axes>"
      ]
     },
     "metadata": {},
     "output_type": "display_data"
    }
   ],
   "source": [
    "feature_importances = rf_model.featureImportances.toArray()\n",
    "\n",
    "feature_importance_dict = {name: importance for name, importance in zip(features, feature_importances)}\n",
    "\n",
    "sorted_features = sorted(feature_importance_dict.items(), key=lambda x: x[1], reverse=True)\n",
    "\n",
    "features_1, importances = zip(*sorted_features)\n",
    "\n",
    "\n",
    "plt.figure(figsize=(12, 8))\n",
    "plt.barh(features_1, importances, color=\"skyblue\")\n",
    "plt.xlabel(\"Feature Importance\")\n",
    "plt.ylabel(\"Features\")\n",
    "plt.title(\"Feature Importances from Random Forest Model\")\n",
    "plt.gca().invert_yaxis()  # Invert y-axis for better readability\n",
    "plt.show()"
   ]
  },
  {
   "cell_type": "code",
   "execution_count": 18,
   "id": "32ea90f5-6304-49ea-ab89-983d4f4fbec1",
   "metadata": {},
   "outputs": [],
   "source": [
    "model_path = \"gs://msca-bdp-student-gcs/Group11/Classification/DepDel15_RF_model_rohit_v2\"\n",
    "#\"Un-Comment\" when you want to update model\n",
    "#rf_model.write().overwrite().save(model_path)"
   ]
  },
  {
   "cell_type": "markdown",
   "id": "fb66714c-44f4-47a7-a9e5-33db016e4580",
   "metadata": {},
   "source": [
    "### **1.2 Random Forest with Cross-Validation (takes very long)**"
   ]
  },
  {
   "cell_type": "code",
   "execution_count": 19,
   "id": "e57eac2b-f475-49b3-abd3-331c9205dfc3",
   "metadata": {},
   "outputs": [],
   "source": [
    "# %%time\n",
    "\n",
    "# # Select the features and target\n",
    "# features = [x for x in df_encoded.columns if x not in [target, 'Airline', 'Marketing_Airline_Network']]\n",
    "\n",
    "# # Step 1: Combine features into a single vector\n",
    "# assembler = VectorAssembler(inputCols=features, outputCol=\"features\")\n",
    "# df_prepared = assembler.transform(df_encoded)\n",
    "\n",
    "# # Step 2: Split data into training and testing datasets\n",
    "# train_df, test_df = df_prepared.randomSplit([0.8, 0.2], seed=42)\n",
    "\n",
    "# # Step 3: Initialize Random Forest Classifier\n",
    "# rf = RandomForestClassifier(featuresCol=\"features\", labelCol=target, seed=42)\n",
    "\n",
    "# # Step 4: Set up the parameter grid for hyperparameter tuning\n",
    "# paramGrid = (ParamGridBuilder()\n",
    "#              .addGrid(rf.numTrees, [50, 100])\n",
    "#              .addGrid(rf.maxDepth, [5, 10, 20])\n",
    "#              .build())\n",
    "\n",
    "# # Step 5: Initialize CrossValidator\n",
    "# evaluator = MulticlassClassificationEvaluator(labelCol=target, metricName=\"accuracy\")\n",
    "\n",
    "# crossval = CrossValidator(estimator=rf,\n",
    "#                           evaluator=evaluator,\n",
    "#                           estimatorParamMaps=paramGrid,\n",
    "#                           numFolds=5,  # 5-fold cross-validation\n",
    "#                           parallelism=2)  # Use 2 cores for parallelism\n",
    "\n",
    "# # Step 6: Train the model with cross-validation\n",
    "# cv_model = crossval.fit(train_df)\n",
    "\n",
    "# # Step 7: Make predictions on the test dataset\n",
    "# predictions = cv_model.transform(test_df)\n",
    "\n",
    "# # Step 8: Initialize the evaluator for various metrics\n",
    "# evaluator_accuracy = MulticlassClassificationEvaluator(labelCol=target, metricName=\"accuracy\")\n",
    "# evaluator_precision = MulticlassClassificationEvaluator(labelCol=target, metricName=\"weightedPrecision\")\n",
    "# evaluator_recall = MulticlassClassificationEvaluator(labelCol=target, metricName=\"weightedRecall\")\n",
    "# evaluator_f1 = MulticlassClassificationEvaluator(labelCol=target, metricName=\"f1\")\n",
    "\n",
    "# # Step 9: Calculate and print the metrics\n",
    "# accuracy = evaluator_accuracy.evaluate(predictions)\n",
    "# precision = evaluator_precision.evaluate(predictions)\n",
    "# recall = evaluator_recall.evaluate(predictions)\n",
    "# f1_score = evaluator_f1.evaluate(predictions)\n",
    "\n",
    "# print(f\"Accuracy: {accuracy:.4f}\")\n",
    "# print(f\"Precision: {precision:.4f}\")\n",
    "# print(f\"Recall: {recall:.4f}\")\n",
    "# print(f\"F1 Score: {f1_score:.4f}\")\n",
    "\n",
    "# # Optional: Show some predictions\n",
    "# predictions.select(\"DepDel15\", \"probability\", \"prediction\").show(10)"
   ]
  },
  {
   "cell_type": "markdown",
   "id": "9d0211d2-3ac6-4814-8adb-9595193308b6",
   "metadata": {},
   "source": [
    "### **1.3 Gradient Boosted Trees Model**"
   ]
  },
  {
   "cell_type": "code",
   "execution_count": 23,
   "id": "29a43c7f-708a-4ee9-8532-93fec9d7cf1e",
   "metadata": {},
   "outputs": [
    {
     "name": "stderr",
     "output_type": "stream",
     "text": [
      "                                                                                \r"
     ]
    }
   ],
   "source": [
    "model_path = \"gs://msca-bdp-student-gcs/Group11/Classification/DepDel15_lgbm_model_rohit\"\n",
    "#model_path_v2 = \"gs://msca-bdp-student-gcs/Group11/Classification/DepDel15_gbt_model_asr\"\n",
    "gbt_model = GBTClassificationModel.load(model_path)"
   ]
  },
  {
   "cell_type": "code",
   "execution_count": 24,
   "id": "9398f465-ece9-46a3-8036-b405a8fa5962",
   "metadata": {},
   "outputs": [
    {
     "name": "stderr",
     "output_type": "stream",
     "text": [
      "Exception in thread \"serve-DataFrame\" java.net.SocketTimeoutException: Accept timed out\n",
      "\tat java.net.PlainSocketImpl.socketAccept(Native Method)\n",
      "\tat java.net.AbstractPlainSocketImpl.accept(AbstractPlainSocketImpl.java:409)\n",
      "\tat java.net.ServerSocket.implAccept(ServerSocket.java:560)\n",
      "\tat java.net.ServerSocket.accept(ServerSocket.java:528)\n",
      "\tat org.apache.spark.security.SocketAuthServer$$anon$1.run(SocketAuthServer.scala:64)\n",
      "[Stage 164:==============>(16 + 1) / 17][Stage 166:=========>      (8 + 5) / 13]\r"
     ]
    },
    {
     "name": "stdout",
     "output_type": "stream",
     "text": [
      "Accuracy: 0.8387\n",
      "Precision: 0.8030\n",
      "Recall: 0.8387\n",
      "F1 Score: 0.7811\n",
      "CPU times: user 168 ms, sys: 35.6 ms, total: 203 ms\n",
      "Wall time: 2min 17s\n"
     ]
    },
    {
     "name": "stderr",
     "output_type": "stream",
     "text": [
      "                                                                                \r"
     ]
    }
   ],
   "source": [
    "%%time\n",
    "\n",
    "features = [x for x in df_encoded.columns if x not in [target, 'Airline', 'Marketing_Airline_Network']]\n",
    "\n",
    "assembler = VectorAssembler(inputCols=features, outputCol=\"features\")\n",
    "df_prepared = assembler.transform(df_encoded)\n",
    "\n",
    "train_df, test_df = df_prepared.randomSplit([0.8, 0.2], seed=42)\n",
    "\n",
    "gbt = GBTClassifier(featuresCol=\"features\", labelCol=target, maxIter=100)\n",
    "\n",
    "#\"Un-comment\" to update model\n",
    "\n",
    "#gbt_model = gbt.fit(train_df)\n",
    "\n",
    "predictions = gbt_model.transform(test_df)\n",
    "\n",
    "#Used MulticlassClassificationEvaluator to get weighted precision and recall as its not available in BinaryclassClassificationEvaluator\n",
    "evaluator_accuracy = MulticlassClassificationEvaluator(labelCol=target, metricName=\"accuracy\")\n",
    "evaluator_precision = MulticlassClassificationEvaluator(labelCol=target, metricName=\"weightedPrecision\")\n",
    "evaluator_recall = MulticlassClassificationEvaluator(labelCol=target, metricName=\"weightedRecall\")\n",
    "evaluator_f1 = MulticlassClassificationEvaluator(labelCol=target, metricName=\"f1\")\n",
    "\n",
    "accuracy = evaluator_accuracy.evaluate(predictions)\n",
    "precision = evaluator_precision.evaluate(predictions)\n",
    "recall = evaluator_recall.evaluate(predictions)\n",
    "f1_score = evaluator_f1.evaluate(predictions)\n",
    "\n",
    "print(f\"Accuracy: {accuracy:.4f}\")\n",
    "print(f\"Precision: {precision:.4f}\")\n",
    "print(f\"Recall: {recall:.4f}\")\n",
    "print(f\"F1 Score: {f1_score:.4f}\")"
   ]
  },
  {
   "cell_type": "code",
   "execution_count": 25,
   "id": "2ba928eb-a075-4f59-b174-5c0b0003ca82",
   "metadata": {},
   "outputs": [
    {
     "name": "stderr",
     "output_type": "stream",
     "text": [
      "                                                                                \r"
     ]
    },
    {
     "data": {
      "text/plain": [
       "0  TP      54311\n",
       "   TN    3965475\n",
       "   FP      36329\n",
       "   FN     736838\n",
       "dtype: int64"
      ]
     },
     "execution_count": 25,
     "metadata": {},
     "output_type": "execute_result"
    }
   ],
   "source": [
    "df_metrics = predictions.select(\"DepDel15\", \"prediction\")\n",
    "\n",
    "tp_condition = (col(\"DepDel15\") == 1) & (col(\"prediction\") == 1)  # True Positive\n",
    "tn_condition = (col(\"DepDel15\") == 0) & (col(\"prediction\") == 0)  # True Negative\n",
    "fp_condition = (col(\"DepDel15\") == 0) & (col(\"prediction\") == 1)  # False Positive\n",
    "fn_condition = (col(\"DepDel15\") == 1) & (col(\"prediction\") == 0)  # False Negative\n",
    "\n",
    "metrics = df_metrics.select(\n",
    "    sum(when(tp_condition, 1).otherwise(0)).alias(\"TP\"),\n",
    "    sum(when(tn_condition, 1).otherwise(0)).alias(\"TN\"),\n",
    "    sum(when(fp_condition, 1).otherwise(0)).alias(\"FP\"),\n",
    "    sum(when(fn_condition, 1).otherwise(0)).alias(\"FN\")\n",
    ")\n",
    "\n",
    "metrics.toPandas().stack()"
   ]
  },
  {
   "cell_type": "code",
   "execution_count": 26,
   "id": "8581aa8e-797d-4899-97f8-702c68244a5e",
   "metadata": {},
   "outputs": [],
   "source": [
    "#model_path_v2 = \"gs://msca-bdp-student-gcs/Group11/Classification/DepDel15_gbt_model_asr\"\n",
    "#gbt_model.write().overwrite().save(model_path_v2)\n",
    "\n",
    "model_path = \"gs://msca-bdp-student-gcs/Group11/Classification/DepDel15_lgbm_model_rohit\"\n",
    "# gbt_model.write().overwrite().save(model_path)"
   ]
  },
  {
   "cell_type": "markdown",
   "id": "d04aed1a-9ca1-4f7d-8f84-3c02c9d45fd9",
   "metadata": {},
   "source": [
    "## **1.4 Logistic Regression**"
   ]
  },
  {
   "cell_type": "code",
   "execution_count": 27,
   "id": "1804101d-df78-4f66-af84-1fb18e97f41a",
   "metadata": {},
   "outputs": [],
   "source": [
    "model_path = \"gs://msca-bdp-student-gcs/Group11/Classification/DepDel15_LR_model_rohit\"\n",
    "lr_model = LogisticRegressionModel.load(model_path)"
   ]
  },
  {
   "cell_type": "code",
   "execution_count": 28,
   "id": "d6f29694-3982-4683-b7bb-99916ab1834c",
   "metadata": {},
   "outputs": [
    {
     "name": "stderr",
     "output_type": "stream",
     "text": [
      "[Stage 192:==============>(20 + 1) / 21][Stage 194:=======>        (6 + 6) / 13]\r"
     ]
    },
    {
     "name": "stdout",
     "output_type": "stream",
     "text": [
      "Accuracy: 0.8349\n",
      "Precision: 0.6971\n",
      "Recall: 0.8349\n",
      "F1 Score: 0.7598\n",
      "CPU times: user 135 ms, sys: 25.8 ms, total: 161 ms\n",
      "Wall time: 1min 20s\n"
     ]
    },
    {
     "name": "stderr",
     "output_type": "stream",
     "text": [
      "                                                                                \r"
     ]
    }
   ],
   "source": [
    "%%time\n",
    "\n",
    "features = [x for x in df_encoded.columns if x not in [target, 'Airline', 'Marketing_Airline_Network']]\n",
    "\n",
    "assembler = VectorAssembler(inputCols=features, outputCol=\"features\")\n",
    "df_prepared = assembler.transform(df_encoded)\n",
    "\n",
    "# scaler = StandardScaler(inputCol=\"features\", outputCol=\"scaled_features\", withStd=True, withMean=False)\n",
    "# scaler_model = scaler.fit(df_prepared)\n",
    "# df_scaled = scaler_model.transform(df_prepared)\n",
    "\n",
    "train_df, test_df = df_prepared.randomSplit([0.8, 0.2], seed=42)\n",
    "\n",
    "lr = LogisticRegression(featuresCol=\"features\", labelCol=target, regParam=0.1, maxIter=50)\n",
    "\n",
    "#\"Un-comment\" when you want to re-train your model\n",
    "\n",
    "# lr_model = lr.fit(train_df)\n",
    "\n",
    "predictions = lr_model.transform(test_df)\n",
    "\n",
    "#Used MulticlassClassificationEvaluator to get weighted precision and recall as its not available in BinaryclassClassificationEvaluator\n",
    "\n",
    "evaluator_accuracy = MulticlassClassificationEvaluator(labelCol=target, metricName=\"accuracy\")\n",
    "evaluator_precision = MulticlassClassificationEvaluator(labelCol=target, metricName=\"weightedPrecision\")\n",
    "evaluator_recall = MulticlassClassificationEvaluator(labelCol=target, metricName=\"weightedRecall\")\n",
    "evaluator_f1 = MulticlassClassificationEvaluator(labelCol=target, metricName=\"f1\")\n",
    "\n",
    "accuracy = evaluator_accuracy.evaluate(predictions)\n",
    "precision = evaluator_precision.evaluate(predictions)\n",
    "recall = evaluator_recall.evaluate(predictions)\n",
    "f1_score = evaluator_f1.evaluate(predictions)\n",
    "\n",
    "print(f\"Accuracy: {accuracy:.4f}\")\n",
    "print(f\"Precision: {precision:.4f}\")\n",
    "print(f\"Recall: {recall:.4f}\")\n",
    "print(f\"F1 Score: {f1_score:.4f}\")"
   ]
  },
  {
   "cell_type": "code",
   "execution_count": 30,
   "id": "bd7de20c-0684-4f46-9ea5-c4b94f4e5ec9",
   "metadata": {},
   "outputs": [],
   "source": [
    "model_path = \"gs://msca-bdp-student-gcs/Group11/Classification/DepDel15_LR_model_rohit\"\n",
    "# lr_model.write().overwrite().save(model_path)"
   ]
  },
  {
   "cell_type": "markdown",
   "id": "fd33b8be-99db-4184-bbe9-6542ebfa8c71",
   "metadata": {},
   "source": [
    "## **1.5 Decision Tree**"
   ]
  },
  {
   "cell_type": "code",
   "execution_count": 31,
   "id": "249aca1a-aa04-4d86-9504-c28f0faa1107",
   "metadata": {},
   "outputs": [],
   "source": [
    "model_path = \"gs://msca-bdp-student-gcs/Group11/Classification/DepDel15_DT_model_rohit\"\n",
    "dt_model = DecisionTreeClassificationModel.load(model_path)"
   ]
  },
  {
   "cell_type": "code",
   "execution_count": 32,
   "id": "ae6d3c63-7079-4a0a-bd32-170c4c192734",
   "metadata": {},
   "outputs": [
    {
     "name": "stderr",
     "output_type": "stream",
     "text": [
      "[Stage 216:==============>(20 + 1) / 21][Stage 218:========>       (7 + 6) / 13]\r"
     ]
    },
    {
     "name": "stdout",
     "output_type": "stream",
     "text": [
      "Accuracy: 0.8349\n",
      "Precision: 0.6971\n",
      "Recall: 0.8349\n",
      "F1 Score: 0.7598\n",
      "CPU times: user 122 ms, sys: 31.9 ms, total: 154 ms\n",
      "Wall time: 1min 19s\n"
     ]
    },
    {
     "name": "stderr",
     "output_type": "stream",
     "text": [
      "                                                                                \r"
     ]
    }
   ],
   "source": [
    "%%time\n",
    "\n",
    "features = [x for x in df_encoded.columns if x not in [target, 'Airline', 'Marketing_Airline_Network']]\n",
    "\n",
    "assembler = VectorAssembler(inputCols=features, outputCol=\"features\")\n",
    "df_prepared = assembler.transform(df_encoded)\n",
    "\n",
    "train_df, test_df = df_prepared.randomSplit([0.8, 0.2], seed=42)\n",
    "\n",
    "dt = DecisionTreeClassifier(\n",
    "    featuresCol=\"features\",\n",
    "    labelCol=target,\n",
    "    maxDepth=10,               \n",
    "    maxBins=32,                \n",
    "    minInstancesPerNode=5,     \n",
    "    minInfoGain=0.01,          \n",
    "    impurity=\"gini\",           \n",
    "    seed=42                    \n",
    ")\n",
    "\n",
    "predictions = dt_model.transform(test_df)\n",
    "\n",
    "evaluator_accuracy = MulticlassClassificationEvaluator(labelCol=target, metricName=\"accuracy\")\n",
    "evaluator_precision = MulticlassClassificationEvaluator(labelCol=target, metricName=\"weightedPrecision\")\n",
    "evaluator_recall = MulticlassClassificationEvaluator(labelCol=target, metricName=\"weightedRecall\")\n",
    "evaluator_f1 = MulticlassClassificationEvaluator(labelCol=target, metricName=\"f1\")\n",
    "\n",
    "accuracy = evaluator_accuracy.evaluate(predictions)\n",
    "precision = evaluator_precision.evaluate(predictions)\n",
    "recall = evaluator_recall.evaluate(predictions)\n",
    "f1_score = evaluator_f1.evaluate(predictions)\n",
    "\n",
    "print(f\"Accuracy: {accuracy:.4f}\")\n",
    "print(f\"Precision: {precision:.4f}\")\n",
    "print(f\"Recall: {recall:.4f}\")\n",
    "print(f\"F1 Score: {f1_score:.4f}\")"
   ]
  },
  {
   "cell_type": "markdown",
   "id": "1c098cc1-182b-4642-8719-27ea8df5be3e",
   "metadata": {},
   "source": [
    "# **2. Classification Models - To predict delay in arrivals**"
   ]
  },
  {
   "cell_type": "code",
   "execution_count": 37,
   "id": "32ebbef2-5de0-452c-a69d-9881246dd9cf",
   "metadata": {},
   "outputs": [
    {
     "name": "stderr",
     "output_type": "stream",
     "text": [
      "                                                                                \r"
     ]
    },
    {
     "name": "stdout",
     "output_type": "stream",
     "text": [
      "+--------------------+----------+--------------+----------+--------+----+-------+-----+----------+---------+-------------------------+-----------+-----------------------+------------------------+---------+---------------------+----------------------+--------+\n",
      "|             Airline|CRSDepTime|CRSElapsedTime|CRSArrTime|Distance|Year|Quarter|Month|DayofMonth|DayOfWeek|Marketing_Airline_Network|PRCP_origin|airport_latitude_origin|airport_longitude_origin|PRCP_dest|airport_latitude_dest|airport_longitude_dest|ArrDel15|\n",
      "+--------------------+----------+--------------+----------+--------+----+-------+-----+----------+---------+-------------------------+-----------+-----------------------+------------------------+---------+---------------------+----------------------+--------+\n",
      "|ExpressJet Airlin...|      1515|         124.0|      1719|   692.0|2018|      1|    1|         7|        7|                       DL|          0|                33.6367|              -84.428101|        0|            40.651773|            -75.442797|     0.0|\n",
      "|Delta Air Lines Inc.|      2130|         127.0|      2337|   692.0|2018|      1|    1|         7|        7|                       DL|          0|                33.6367|              -84.428101|        0|            40.651773|            -75.442797|     0.0|\n",
      "+--------------------+----------+--------------+----------+--------+----+-------+-----+----------+---------+-------------------------+-----------+-----------------------+------------------------+---------+---------------------+----------------------+--------+\n",
      "only showing top 2 rows\n",
      "\n"
     ]
    },
    {
     "name": "stderr",
     "output_type": "stream",
     "text": [
      "                                                                                \r"
     ]
    }
   ],
   "source": [
    "selected_features = [\n",
    "    'Airline', 'CRSDepTime', 'CRSElapsedTime', 'CRSArrTime', 'Distance', \n",
    "    'Year', 'Quarter', 'Month', 'DayofMonth', 'DayOfWeek', \n",
    "    'Marketing_Airline_Network', \n",
    "    'PRCP_origin', 'airport_latitude_origin', 'airport_longitude_origin',  \n",
    "    'PRCP_dest', 'airport_latitude_dest', 'airport_longitude_dest']\n",
    "target = 'ArrDel15'\n",
    "\n",
    "df_model.select(selected_features + [target]).show(2)"
   ]
  },
  {
   "cell_type": "code",
   "execution_count": 38,
   "id": "eca7a2c8-f5f2-42c6-b57a-4cb4ba37d51a",
   "metadata": {},
   "outputs": [
    {
     "name": "stderr",
     "output_type": "stream",
     "text": [
      "[Stage 1097:=============>(20 + 1) / 21][Stage 1098:=>            (1 + 11) / 13]\r"
     ]
    },
    {
     "name": "stdout",
     "output_type": "stream",
     "text": [
      "CPU times: user 63.3 ms, sys: 10.4 ms, total: 73.7 ms\n",
      "Wall time: 4.92 s\n"
     ]
    },
    {
     "name": "stderr",
     "output_type": "stream",
     "text": [
      "                                                                                \r"
     ]
    },
    {
     "data": {
      "text/plain": [
       "0  Airline_fill_rate                      1.000000\n",
       "   CRSDepTime_fill_rate                   1.000000\n",
       "   CRSElapsedTime_fill_rate               0.999999\n",
       "   CRSArrTime_fill_rate                   1.000000\n",
       "   Distance_fill_rate                     1.000000\n",
       "   Year_fill_rate                         1.000000\n",
       "   Quarter_fill_rate                      1.000000\n",
       "   Month_fill_rate                        1.000000\n",
       "   DayofMonth_fill_rate                   1.000000\n",
       "   DayOfWeek_fill_rate                    1.000000\n",
       "   Marketing_Airline_Network_fill_rate    1.000000\n",
       "   PRCP_origin_fill_rate                  0.989426\n",
       "   airport_latitude_origin_fill_rate      0.993593\n",
       "   airport_longitude_origin_fill_rate     0.993593\n",
       "   PRCP_dest_fill_rate                    0.989422\n",
       "   airport_latitude_dest_fill_rate        0.993592\n",
       "   airport_longitude_dest_fill_rate       0.993592\n",
       "   ArrDel15_fill_rate                     0.971620\n",
       "dtype: float64"
      ]
     },
     "execution_count": 38,
     "metadata": {},
     "output_type": "execute_result"
    },
    {
     "name": "stderr",
     "output_type": "stream",
     "text": [
      "                                                                                \r"
     ]
    }
   ],
   "source": [
    "%%time\n",
    "columns_to_check = selected_features + [target]\n",
    "\n",
    "fill_rate_exprs = [\n",
    "    (F.count(F.when(F.col(col).isNotNull(), 1)) / F.count(\"*\")).alias(f\"{col}_fill_rate\") \n",
    "    for col in columns_to_check\n",
    "]\n",
    "\n",
    "fill_rate_df = df_model.select(*fill_rate_exprs)\n",
    "\n",
    "fill_rate_df.toPandas().stack()"
   ]
  },
  {
   "cell_type": "code",
   "execution_count": 39,
   "id": "c36477c3-f7e7-4b4a-b08f-47b46bf2c641",
   "metadata": {},
   "outputs": [
    {
     "name": "stderr",
     "output_type": "stream",
     "text": [
      "                                                                                \r"
     ]
    },
    {
     "data": {
      "text/plain": [
       "0  Airline_fill_rate                      1.0\n",
       "   CRSDepTime_fill_rate                   1.0\n",
       "   CRSElapsedTime_fill_rate               1.0\n",
       "   CRSArrTime_fill_rate                   1.0\n",
       "   Distance_fill_rate                     1.0\n",
       "   Year_fill_rate                         1.0\n",
       "   Quarter_fill_rate                      1.0\n",
       "   Month_fill_rate                        1.0\n",
       "   DayofMonth_fill_rate                   1.0\n",
       "   DayOfWeek_fill_rate                    1.0\n",
       "   Marketing_Airline_Network_fill_rate    1.0\n",
       "   PRCP_origin_fill_rate                  1.0\n",
       "   airport_latitude_origin_fill_rate      1.0\n",
       "   airport_longitude_origin_fill_rate     1.0\n",
       "   PRCP_dest_fill_rate                    1.0\n",
       "   airport_latitude_dest_fill_rate        1.0\n",
       "   airport_longitude_dest_fill_rate       1.0\n",
       "   ArrDel15_fill_rate                     1.0\n",
       "dtype: float64"
      ]
     },
     "execution_count": 39,
     "metadata": {},
     "output_type": "execute_result"
    },
    {
     "name": "stderr",
     "output_type": "stream",
     "text": [
      "                                                                                \r"
     ]
    }
   ],
   "source": [
    "df_model_non_null = df_model.select(selected_features + [target]).na.drop()\n",
    "\n",
    "fill_rate_df = df_model_non_null.select(*fill_rate_exprs)\n",
    "fill_rate_df.toPandas().stack()"
   ]
  },
  {
   "cell_type": "code",
   "execution_count": 40,
   "id": "605348bc-103a-4358-96e0-838cb6a6e386",
   "metadata": {},
   "outputs": [
    {
     "name": "stderr",
     "output_type": "stream",
     "text": [
      "                                                                                \r"
     ]
    },
    {
     "name": "stdout",
     "output_type": "stream",
     "text": [
      "+--------------------+-------------+---------------+-------------------------+-------------------------------+-----------------------------+\n",
      "|             Airline|Airline_Index|    Airline_OHE|Marketing_Airline_Network|Marketing_Airline_Network_Index|Marketing_Airline_Network_OHE|\n",
      "+--------------------+-------------+---------------+-------------------------+-------------------------------+-----------------------------+\n",
      "|ExpressJet Airlin...|         16.0|(27,[16],[1.0])|                       DL|                            2.0|               (11,[2],[1.0])|\n",
      "|Delta Air Lines Inc.|          1.0| (27,[1],[1.0])|                       DL|                            2.0|               (11,[2],[1.0])|\n",
      "+--------------------+-------------+---------------+-------------------------+-------------------------------+-----------------------------+\n",
      "only showing top 2 rows\n",
      "\n"
     ]
    }
   ],
   "source": [
    "categorical_columns = [\"Airline\", \"Marketing_Airline_Network\"]\n",
    "\n",
    "indexers = [\n",
    "    StringIndexer(inputCol=col, outputCol=f\"{col}_Index\", handleInvalid=\"keep\")\n",
    "    for col in categorical_columns\n",
    "]\n",
    "\n",
    "encoders = [\n",
    "    OneHotEncoder(inputCol=f\"{col}_Index\", outputCol=f\"{col}_OHE\") \n",
    "    for col in categorical_columns\n",
    "]\n",
    "\n",
    "pipeline = Pipeline(stages=indexers + encoders)\n",
    "\n",
    "pipeline_model = pipeline.fit(df_model_non_null)\n",
    "df_encoded = pipeline_model.transform(df_model_non_null)\n",
    "\n",
    "df_encoded.select(\"Airline\", \"Airline_Index\", \"Airline_OHE\", \"Marketing_Airline_Network\", \n",
    "                  \"Marketing_Airline_Network_Index\", \"Marketing_Airline_Network_OHE\").show(2)"
   ]
  },
  {
   "cell_type": "code",
   "execution_count": 41,
   "id": "4d629407-ec04-40c7-b21e-39962f52178e",
   "metadata": {},
   "outputs": [
    {
     "name": "stdout",
     "output_type": "stream",
     "text": [
      "+----------+----------+----------+----------+\n",
      "|CRSDepHour|CRSDepTime|CRSArrHour|CRSArrTime|\n",
      "+----------+----------+----------+----------+\n",
      "|        15|      1515|        17|      1719|\n",
      "|        21|      2130|        23|      2337|\n",
      "|        13|      1345|        16|      1643|\n",
      "|        15|      1525|        17|      1705|\n",
      "|        20|      2026|        22|      2212|\n",
      "+----------+----------+----------+----------+\n",
      "only showing top 5 rows\n",
      "\n"
     ]
    },
    {
     "name": "stderr",
     "output_type": "stream",
     "text": [
      "                                                                                \r"
     ]
    }
   ],
   "source": [
    "df_encoded = df_encoded.withColumn(\"CRSDepHour\", floor(col(\"CRSDepTime\") / 100))\n",
    "df_encoded = df_encoded.withColumn(\"CRSArrHour\", floor(col(\"CRSArrTime\") / 100))\n",
    "\n",
    "df_encoded.select('CRSDepHour', 'CRSDepTime', 'CRSArrHour', 'CRSArrTime').show(5)"
   ]
  },
  {
   "cell_type": "markdown",
   "id": "5731f038-1215-4745-8741-f6afefeb704f",
   "metadata": {},
   "source": [
    "## **2.1 Random Forest Model**"
   ]
  },
  {
   "cell_type": "code",
   "execution_count": 43,
   "id": "5a15b675-2487-4971-a5ba-81aadd122177",
   "metadata": {},
   "outputs": [],
   "source": [
    "model_path = \"gs://msca-bdp-student-gcs/Group11/Classification/ArrDel15_RF_model_rohit\"\n",
    "rf_model = RandomForestClassificationModel.load(model_path)"
   ]
  },
  {
   "cell_type": "code",
   "execution_count": 44,
   "id": "9c99e4df-9bd9-4f22-85a2-8048182a4d81",
   "metadata": {},
   "outputs": [
    {
     "name": "stderr",
     "output_type": "stream",
     "text": [
      "[Stage 1166:===================================================>  (20 + 1) / 21]\r"
     ]
    },
    {
     "name": "stdout",
     "output_type": "stream",
     "text": [
      "Accuracy: 0.8301\n",
      "Precision: 0.6891\n",
      "Recall: 0.8301\n",
      "F1 Score: 0.7530\n",
      "CPU times: user 108 ms, sys: 14.6 ms, total: 122 ms\n",
      "Wall time: 1min 20s\n"
     ]
    },
    {
     "name": "stderr",
     "output_type": "stream",
     "text": [
      "                                                                                \r"
     ]
    }
   ],
   "source": [
    "%%time\n",
    "\n",
    "features = [x for x in df_encoded.columns if x not in [target, 'Airline', 'Marketing_Airline_Network', 'CRSDepTime', 'CRSArrTime']]\n",
    "\n",
    "assembler = VectorAssembler(inputCols=features, outputCol=\"features\")\n",
    "df_prepared = assembler.transform(df_encoded)\n",
    "\n",
    "train_df, test_df = df_prepared.randomSplit([0.8, 0.2], seed=42)\n",
    "\n",
    "rf = RandomForestClassifier(\n",
    "    featuresCol=\"features\", \n",
    "    labelCol=target, \n",
    "    numTrees=100, \n",
    "    maxDepth=7, \n",
    "#     maxBins=32,\n",
    "#     minInstancesPerNode=5, \n",
    "#     minInfoGain=0.01, \n",
    "#     featureSubsetStrategy=\"sqrt\", \n",
    "    seed=42\n",
    ")\n",
    "\n",
    "# rf_model = rf.fit(train_df)\n",
    "\n",
    "predictions = rf_model.transform(test_df)\n",
    "\n",
    "evaluator_accuracy = MulticlassClassificationEvaluator(labelCol=target, metricName=\"accuracy\")\n",
    "evaluator_precision = MulticlassClassificationEvaluator(labelCol=target, metricName=\"weightedPrecision\")\n",
    "evaluator_recall = MulticlassClassificationEvaluator(labelCol=target, metricName=\"weightedRecall\")\n",
    "evaluator_f1 = MulticlassClassificationEvaluator(labelCol=target, metricName=\"f1\")\n",
    "\n",
    "accuracy = evaluator_accuracy.evaluate(predictions)\n",
    "precision = evaluator_precision.evaluate(predictions)\n",
    "recall = evaluator_recall.evaluate(predictions)\n",
    "f1_score = evaluator_f1.evaluate(predictions)\n",
    "\n",
    "print(f\"Accuracy: {accuracy:.4f}\")\n",
    "print(f\"Precision: {precision:.4f}\")\n",
    "print(f\"Recall: {recall:.4f}\")\n",
    "print(f\"F1 Score: {f1_score:.4f}\")\n",
    "\n",
    "# print(evaluator_precision.evaluate(predictions, \n",
    "#                                    {evaluator_precision.metricName: \"precisionByLabel\", \n",
    "#                                     evaluator_precision.metricLabel: 1.0}))\n",
    "# print(evaluator_recall.evaluate(predictions, \n",
    "#                                    {evaluator_recall.metricName: \"recallByLabel\", \n",
    "#                                     evaluator_recall.metricLabel: 1.0}))\n",
    "\n",
    "# Optional: Show some predictions\n",
    "# predictions.select(\"DepDel15\", \"probability\", \"prediction\").show(10)"
   ]
  },
  {
   "cell_type": "code",
   "execution_count": 45,
   "id": "922b7fe5-3acb-4c09-8ec7-073c7437b14e",
   "metadata": {},
   "outputs": [
    {
     "data": {
      "image/png": "[encoded data removed]",
      "text/plain": [
       "<Figure size 1200x800 with 1 Axes>"
      ]
     },
     "metadata": {},
     "output_type": "display_data"
    }
   ],
   "source": [
    "feature_importances = rf_model.featureImportances.toArray()\n",
    "\n",
    "feature_importance_dict = {name: importance for name, importance in zip(features, feature_importances)}\n",
    "\n",
    "sorted_features = sorted(feature_importance_dict.items(), key=lambda x: x[1], reverse=True)\n",
    "\n",
    "features_1, importances = zip(*sorted_features)\n",
    "\n",
    "plt.figure(figsize=(12, 8))\n",
    "plt.barh(features_1, importances, color=\"skyblue\")\n",
    "plt.xlabel(\"Feature Importance\")\n",
    "plt.ylabel(\"Features\")\n",
    "plt.title(\"Feature Importances from Random Forest Model\")\n",
    "plt.gca().invert_yaxis()  # Invert y-axis for better readability\n",
    "plt.show()"
   ]
  },
  {
   "cell_type": "markdown",
   "id": "9cbe57e6-189c-40c4-9de9-07c571b9a710",
   "metadata": {},
   "source": [
    "## **2.2 Random Forest with Cross-Validation (Taking Too Long)**"
   ]
  },
  {
   "cell_type": "code",
   "execution_count": 47,
   "id": "d17a080d-b3a4-4555-ad2a-f2458e4fa05d",
   "metadata": {},
   "outputs": [],
   "source": [
    "# %%time\n",
    "\n",
    "# # Select the features and target\n",
    "# features = [x for x in df_encoded.columns if x not in [target, 'Airline', 'Marketing_Airline_Network']]\n",
    "\n",
    "# # Step 1: Combine features into a single vector\n",
    "# assembler = VectorAssembler(inputCols=features, outputCol=\"features\")\n",
    "# df_prepared = assembler.transform(df_encoded)\n",
    "\n",
    "# # Step 2: Split data into training and testing datasets\n",
    "# train_df, test_df = df_prepared.randomSplit([0.8, 0.2], seed=42)\n",
    "# # Step 3: Initialize Random Forest Classifier\n",
    "# rf = RandomForestClassifier(featuresCol=\"features\", labelCol=target, seed=42)\n",
    "\n",
    "# # Step 4: Set up the parameter grid for hyperparameter tuning\n",
    "# paramGrid = (ParamGridBuilder()\n",
    "#              .addGrid(rf.numTrees, [50, 100])\n",
    "#              .addGrid(rf.maxDepth, [5, 10, 20])\n",
    "#              .build())\n",
    "\n",
    "# # Step 5: Initialize CrossValidator\n",
    "# evaluator = MulticlassClassificationEvaluator(labelCol=target, metricName=\"accuracy\")\n",
    "\n",
    "# crossval = CrossValidator(estimator=rf,\n",
    "#                           evaluator=evaluator,\n",
    "#                           estimatorParamMaps=paramGrid,\n",
    "#                           numFolds=5,  # 5-fold cross-validation\n",
    "#                           parallelism=2)  # Use 2 cores for parallelism\n",
    "\n",
    "# # Step 6: Train the model with cross-validation\n",
    "# cv_model = crossval.fit(train_df)\n",
    "\n",
    "# # Step 7: Make predictions on the test dataset\n",
    "# predictions = cv_model.transform(test_df)\n",
    "\n",
    "# # Step 8: Initialize the evaluator for various metrics\n",
    "# evaluator_accuracy = MulticlassClassificationEvaluator(labelCol=target, metricName=\"accuracy\")\n",
    "# evaluator_precision = MulticlassClassificationEvaluator(labelCol=target, metricName=\"weightedPrecision\")\n",
    "# evaluator_recall = MulticlassClassificationEvaluator(labelCol=target, metricName=\"weightedRecall\")\n",
    "# evaluator_f1 = MulticlassClassificationEvaluator(labelCol=target, metricName=\"f1\")\n",
    "\n",
    "# # Step 9: Calculate and print the metrics\n",
    "# accuracy = evaluator_accuracyevaluate(predictions)\n",
    "# precision = evaluator_precision.evaluate(predictions)\n",
    "# recall = evaluator_recall.evaluate(predictions)\n",
    "# f1_score = evaluator_f1.evaluate(predictions)\n",
    "\n",
    "# print(f\"Accuracy: {accuracy:.4f}\")\n",
    "# print(f\"Precision: {precision:.4f}\")\n",
    "# print(f\"Recall: {recall:.4f}\")\n",
    "# print(f\"F1 Score: {f1_score:.4f}\")\n",
    "\n",
    "# # Optional: Show some predictions\n",
    "# predictions.select(\"DepDel15\", \"probability\", \"prediction\").show(10)\n"
   ]
  },
  {
   "cell_type": "markdown",
   "id": "fa64b83a-7e77-45e3-821f-2151982df35c",
   "metadata": {},
   "source": [
    "## **2.3 GBT Model**"
   ]
  },
  {
   "cell_type": "code",
   "execution_count": 49,
   "id": "60184757-aa16-40fb-abee-3db24b9079a2",
   "metadata": {},
   "outputs": [
    {
     "name": "stderr",
     "output_type": "stream",
     "text": [
      "                                                                                \r"
     ]
    }
   ],
   "source": [
    "model_path = \"gs://msca-bdp-student-gcs/Group11/Classification/ArrDel15_lgbm_model_rohit\"\n",
    "gbt = GBTClassificationModel.load(model_path)"
   ]
  },
  {
   "cell_type": "code",
   "execution_count": 50,
   "id": "1691448c-c7ef-4a68-9489-06605403c199",
   "metadata": {},
   "outputs": [
    {
     "name": "stderr",
     "output_type": "stream",
     "text": [
      "[Stage 1186:=================================================>    (11 + 1) / 12]\r"
     ]
    },
    {
     "name": "stdout",
     "output_type": "stream",
     "text": [
      "Accuracy: 0.8340\n",
      "Precision: 0.7995\n",
      "Recall: 0.8340\n",
      "F1 Score: 0.7737\n",
      "CPU times: user 111 ms, sys: 27.5 ms, total: 139 ms\n",
      "Wall time: 3min 22s\n"
     ]
    },
    {
     "name": "stderr",
     "output_type": "stream",
     "text": [
      "                                                                                \r"
     ]
    }
   ],
   "source": [
    "%%time\n",
    "\n",
    "features = [x for x in df_encoded.columns if x not in [target, 'Airline', 'Marketing_Airline_Network']]\n",
    "\n",
    "assembler = VectorAssembler(inputCols=features, outputCol=\"features\")\n",
    "df_prepared = assembler.transform(df_encoded)\n",
    "\n",
    "train_df, test_df = df_prepared.randomSplit([0.8, 0.2], seed=42)\n",
    "\n",
    "#gbt = GBTClassifier(featuresCol=\"features\", labelCol=target, maxIter=100)\n",
    "\n",
    "# gbt_model = gbt.fit(train_df)\n",
    "\n",
    "predictions = gbt_model.transform(test_df)\n",
    "\n",
    "evaluator_accuracy = MulticlassClassificationEvaluator(labelCol=target, metricName=\"accuracy\")\n",
    "evaluator_precision = MulticlassClassificationEvaluator(labelCol=target, metricName=\"weightedPrecision\")\n",
    "evaluator_recall = MulticlassClassificationEvaluator(labelCol=target, metricName=\"weightedRecall\")\n",
    "evaluator_f1 = MulticlassClassificationEvaluator(labelCol=target, metricName=\"f1\")\n",
    "\n",
    "accuracy = evaluator_accuracy.evaluate(predictions)\n",
    "precision = evaluator_precision.evaluate(predictions)\n",
    "recall = evaluator_recall.evaluate(predictions)\n",
    "f1_score = evaluator_f1.evaluate(predictions)\n",
    "\n",
    "print(f\"Accuracy: {accuracy:.4f}\")\n",
    "print(f\"Precision: {precision:.4f}\")\n",
    "print(f\"Recall: {recall:.4f}\")\n",
    "print(f\"F1 Score: {f1_score:.4f}\")"
   ]
  },
  {
   "cell_type": "code",
   "execution_count": 51,
   "id": "5e2a5092-102c-46ca-9fdc-384a9bbad864",
   "metadata": {},
   "outputs": [
    {
     "name": "stderr",
     "output_type": "stream",
     "text": [
      "                                                                                \r"
     ]
    },
    {
     "data": {
      "text/plain": [
       "0  TP      51907\n",
       "   TN    3934632\n",
       "   FP      33024\n",
       "   FN     760341\n",
       "dtype: int64"
      ]
     },
     "execution_count": 51,
     "metadata": {},
     "output_type": "execute_result"
    }
   ],
   "source": [
    "df_metrics = predictions.select(\"ArrDel15\", \"prediction\")\n",
    "\n",
    "tp_condition = (col(\"ArrDel15\") == 1) & (col(\"prediction\") == 1)  # True Positive\n",
    "tn_condition = (col(\"ArrDel15\") == 0) & (col(\"prediction\") == 0)  # True Negative\n",
    "fp_condition = (col(\"ArrDel15\") == 0) & (col(\"prediction\") == 1)  # False Positive\n",
    "fn_condition = (col(\"ArrDel15\") == 1) & (col(\"prediction\") == 0)  # False Negative\n",
    "\n",
    "metrics = df_metrics.select(\n",
    "    sum(when(tp_condition, 1).otherwise(0)).alias(\"TP\"),\n",
    "    sum(when(tn_condition, 1).otherwise(0)).alias(\"TN\"),\n",
    "    sum(when(fp_condition, 1).otherwise(0)).alias(\"FP\"),\n",
    "    sum(when(fn_condition, 1).otherwise(0)).alias(\"FN\")\n",
    ")\n",
    "\n",
    "metrics.toPandas().stack()"
   ]
  },
  {
   "cell_type": "code",
   "execution_count": 52,
   "id": "d48d2eac-0001-4c6e-8be6-b3a262f2df43",
   "metadata": {},
   "outputs": [],
   "source": [
    "model_path = \"gs://msca-bdp-student-gcs/Group11/Classification/ArrDel15_lgbm_model_rohit\"\n",
    "#gbt_model.write().overwrite().save(model_path)"
   ]
  },
  {
   "cell_type": "markdown",
   "id": "0488c521-a5bd-495c-91c4-7c8ee3346c65",
   "metadata": {},
   "source": [
    "## **2.4 Logistic Regression**"
   ]
  },
  {
   "cell_type": "code",
   "execution_count": 53,
   "id": "11cc1a5b-5d44-42ba-ae0a-4f92aedf4fdf",
   "metadata": {},
   "outputs": [],
   "source": [
    "model_path = \"gs://msca-bdp-student-gcs/Group11/Classification/ArrDel15_LR_model_rohit\"\n",
    "lr_model = LogisticRegressionModel.load(model_path)"
   ]
  },
  {
   "cell_type": "code",
   "execution_count": 54,
   "id": "4bd77544-0722-4edf-8499-8511ef76679a",
   "metadata": {},
   "outputs": [
    {
     "name": "stderr",
     "output_type": "stream",
     "text": [
      "[Stage 1200:=================================================>    (11 + 1) / 12]\r"
     ]
    },
    {
     "name": "stdout",
     "output_type": "stream",
     "text": [
      "Accuracy: 0.8301\n",
      "Precision: 0.6890\n",
      "Recall: 0.8301\n",
      "F1 Score: 0.7530\n",
      "CPU times: user 93.1 ms, sys: 20.4 ms, total: 113 ms\n",
      "Wall time: 2min 6s\n"
     ]
    },
    {
     "name": "stderr",
     "output_type": "stream",
     "text": [
      "                                                                                \r"
     ]
    }
   ],
   "source": [
    "%%time\n",
    "\n",
    "features = [x for x in df_encoded.columns if x not in [target, 'Airline', 'Marketing_Airline_Network']]\n",
    "\n",
    "assembler = VectorAssembler(inputCols=features, outputCol=\"features\")\n",
    "df_prepared = assembler.transform(df_encoded)\n",
    "\n",
    "# scaler = StandardScaler(inputCol=\"features\", outputCol=\"scaled_features\", withStd=True, withMean=False)\n",
    "# scaler_model = scaler.fit(df_prepared)\n",
    "# df_scaled = scaler_model.transform(df_prepared)\n",
    "\n",
    "train_df, test_df = df_prepared.randomSplit([0.8, 0.2], seed=42)\n",
    "\n",
    "lr = LogisticRegression(featuresCol=\"features\", labelCol=target, regParam=0.1, maxIter=50)\n",
    "# lr_model = lr.fit(train_df)\n",
    "predictions = lr_model.transform(test_df)\n",
    "\n",
    "evaluator_accuracy = MulticlassClassificationEvaluator(labelCol=target, metricName=\"accuracy\")\n",
    "evaluator_precision = MulticlassClassificationEvaluator(labelCol=target, metricName=\"weightedPrecision\")\n",
    "evaluator_recall = MulticlassClassificationEvaluator(labelCol=target, metricName=\"weightedRecall\")\n",
    "evaluator_f1 = MulticlassClassificationEvaluator(labelCol=target, metricName=\"f1\")\n",
    "\n",
    "accuracy = evaluator_accuracy.evaluate(predictions)\n",
    "precision = evaluator_precision.evaluate(predictions)\n",
    "recall = evaluator_recall.evaluate(predictions)\n",
    "f1_score = evaluator_f1.evaluate(predictions)\n",
    "\n",
    "print(f\"Accuracy: {accuracy:.4f}\")\n",
    "print(f\"Precision: {precision:.4f}\")\n",
    "print(f\"Recall: {recall:.4f}\")\n",
    "print(f\"F1 Score: {f1_score:.4f}\")"
   ]
  },
  {
   "cell_type": "code",
   "execution_count": 55,
   "id": "ca5dd4e7-ceb4-4170-9c5a-5600a01867ec",
   "metadata": {},
   "outputs": [
    {
     "name": "stderr",
     "output_type": "stream",
     "text": [
      "                                                                                \r"
     ]
    },
    {
     "data": {
      "text/plain": [
       "0  TP          0\n",
       "   TN    3967656\n",
       "   FP          0\n",
       "   FN     812248\n",
       "dtype: int64"
      ]
     },
     "execution_count": 55,
     "metadata": {},
     "output_type": "execute_result"
    }
   ],
   "source": [
    "df_metrics = predictions.select(\"ArrDel15\", \"prediction\")\n",
    "\n",
    "tp_condition = (col(\"ArrDel15\") == 1) & (col(\"prediction\") == 1)  # True Positive\n",
    "tn_condition = (col(\"ArrDel15\") == 0) & (col(\"prediction\") == 0)  # True Negative\n",
    "fp_condition = (col(\"ArrDel15\") == 0) & (col(\"prediction\") == 1)  # False Positive\n",
    "fn_condition = (col(\"ArrDel15\") == 1) & (col(\"prediction\") == 0)  # False Negative\n",
    "\n",
    "metrics = df_metrics.select(\n",
    "    sum(when(tp_condition, 1).otherwise(0)).alias(\"TP\"),\n",
    "    sum(when(tn_condition, 1).otherwise(0)).alias(\"TN\"),\n",
    "    sum(when(fp_condition, 1).otherwise(0)).alias(\"FP\"),\n",
    "    sum(when(fn_condition, 1).otherwise(0)).alias(\"FN\")\n",
    ")\n",
    "\n",
    "# Show the result\n",
    "metrics.toPandas().stack()"
   ]
  },
  {
   "cell_type": "code",
   "execution_count": 56,
   "id": "633ae280-6595-42e9-afa8-f4211e28d97b",
   "metadata": {},
   "outputs": [],
   "source": [
    "model_path = \"gs://msca-bdp-student-gcs/Group11/Classification/ArrDel15_LR_model_rohit\"\n",
    "#lr_model.write().overwrite().save(model_path)"
   ]
  },
  {
   "cell_type": "markdown",
   "id": "e9aed453-12e1-4181-a58d-5fb5f3035173",
   "metadata": {},
   "source": [
    "## **2.5 Decision Tree**"
   ]
  },
  {
   "cell_type": "code",
   "execution_count": 57,
   "id": "36c5ee1e-5b08-429c-b5f1-d46ebe6d61ff",
   "metadata": {},
   "outputs": [],
   "source": [
    "model_path = \"gs://msca-bdp-student-gcs/Group11/Classification/ArrDel15_DT_model_rohit\"\n",
    "dt_model = DecisionTreeClassificationModel.load(model_path)"
   ]
  },
  {
   "cell_type": "code",
   "execution_count": 58,
   "id": "ff7b11a0-3597-4350-91fe-d7c27f1b2178",
   "metadata": {},
   "outputs": [
    {
     "name": "stderr",
     "output_type": "stream",
     "text": [
      "[Stage 1214:=================================================>    (11 + 1) / 12]\r"
     ]
    },
    {
     "name": "stdout",
     "output_type": "stream",
     "text": [
      "Accuracy: 0.8301\n",
      "Precision: 0.6890\n",
      "Recall: 0.8301\n",
      "F1 Score: 0.7530\n",
      "CPU times: user 93.5 ms, sys: 21.4 ms, total: 115 ms\n",
      "Wall time: 2min 7s\n"
     ]
    },
    {
     "name": "stderr",
     "output_type": "stream",
     "text": [
      "                                                                                \r"
     ]
    }
   ],
   "source": [
    "%%time\n",
    "\n",
    "features = [x for x in df_encoded.columns if x not in [target, 'Airline', 'Marketing_Airline_Network']]\n",
    "\n",
    "assembler = VectorAssembler(inputCols=features, outputCol=\"features\")\n",
    "df_prepared = assembler.transform(df_encoded)\n",
    "\n",
    "train_df, test_df = df_prepared.randomSplit([0.8, 0.2], seed=42)\n",
    "\n",
    "# Set hyperparameters\n",
    "dt = DecisionTreeClassifier(\n",
    "    featuresCol=\"features\",\n",
    "    labelCol=target,\n",
    "    maxDepth=10,               \n",
    "    maxBins=32,                \n",
    "    minInstancesPerNode=5,     \n",
    "    minInfoGain=0.01,          \n",
    "    impurity=\"gini\",           \n",
    "    seed=42                    \n",
    ")\n",
    "\n",
    "predictions = dt_model.transform(test_df)\n",
    "\n",
    "evaluator_accuracy = MulticlassClassificationEvaluator(labelCol=target, metricName=\"accuracy\")\n",
    "evaluator_precision = MulticlassClassificationEvaluator(labelCol=target, metricName=\"weightedPrecision\")\n",
    "evaluator_recall = MulticlassClassificationEvaluator(labelCol=target, metricName=\"weightedRecall\")\n",
    "evaluator_f1 = MulticlassClassificationEvaluator(labelCol=target, metricName=\"f1\")\n",
    "\n",
    "accuracy = evaluator_accuracy.evaluate(predictions)\n",
    "precision = evaluator_precision.evaluate(predictions)\n",
    "recall = evaluator_recall.evaluate(predictions)\n",
    "f1_score = evaluator_f1.evaluate(predictions)\n",
    "\n",
    "print(f\"Accuracy: {accuracy:.4f}\")\n",
    "print(f\"Precision: {precision:.4f}\")\n",
    "print(f\"Recall: {recall:.4f}\")\n",
    "print(f\"F1 Score: {f1_score:.4f}\")"
   ]
  },
  {
   "cell_type": "code",
   "execution_count": 59,
   "id": "ec79f03b-aae1-4185-b0d1-6affc2c9be9e",
   "metadata": {},
   "outputs": [
    {
     "name": "stderr",
     "output_type": "stream",
     "text": [
      "                                                                                \r"
     ]
    },
    {
     "data": {
      "text/plain": [
       "0  TP          0\n",
       "   TN    3967656\n",
       "   FP          0\n",
       "   FN     812248\n",
       "dtype: int64"
      ]
     },
     "execution_count": 59,
     "metadata": {},
     "output_type": "execute_result"
    }
   ],
   "source": [
    "df_metrics = predictions.select(\"ArrDel15\", \"prediction\")\n",
    "\n",
    "tp_condition = (col(\"ArrDel15\") == 1) & (col(\"prediction\") == 1)  # True Positive\n",
    "tn_condition = (col(\"ArrDel15\") == 0) & (col(\"prediction\") == 0)  # True Negative\n",
    "fp_condition = (col(\"ArrDel15\") == 0) & (col(\"prediction\") == 1)  # False Positive\n",
    "fn_condition = (col(\"ArrDel15\") == 1) & (col(\"prediction\") == 0)  # False Negative\n",
    "\n",
    "metrics = df_metrics.select(\n",
    "    sum(when(tp_condition, 1).otherwise(0)).alias(\"TP\"),\n",
    "    sum(when(tn_condition, 1).otherwise(0)).alias(\"TN\"),\n",
    "    sum(when(fp_condition, 1).otherwise(0)).alias(\"FP\"),\n",
    "    sum(when(fn_condition, 1).otherwise(0)).alias(\"FN\")\n",
    ")\n",
    "\n",
    "# Show the result\n",
    "metrics.toPandas().stack()"
   ]
  },
  {
   "cell_type": "code",
   "execution_count": 60,
   "id": "bb89cc7a-8382-4d99-a40d-68ce6148e0da",
   "metadata": {},
   "outputs": [],
   "source": [
    "model_path = \"gs://msca-bdp-student-gcs/Group11/Classification/ArrDel15_DT_model_rohit\"\n",
    "#dt_model.write().overwrite().save(model_path)"
   ]
  },
  {
   "cell_type": "markdown",
   "id": "1c94161a-81be-4a43-b0a1-91b27f703169",
   "metadata": {},
   "source": [
    "# **3. Regression Models - To predict and quantify delay in departure** "
   ]
  },
  {
   "cell_type": "code",
   "execution_count": 61,
   "id": "fb68ca9c-79c4-4418-9b2a-da87ee3681ed",
   "metadata": {},
   "outputs": [
    {
     "name": "stderr",
     "output_type": "stream",
     "text": [
      "                                                                                \r"
     ]
    }
   ],
   "source": [
    "gcs_path = \"gs://msca-bdp-student-gcs/Group11/flight_weather_joined_2018_2021_v2.parquet\"\n",
    "df = spark.read.parquet(gcs_path)"
   ]
  },
  {
   "cell_type": "code",
   "execution_count": 63,
   "id": "f374138f-c0dc-4a78-8902-3f5f800d2003",
   "metadata": {},
   "outputs": [],
   "source": [
    "from pyspark.sql.functions import year, dayofyear, lit\n",
    "df = df.withColumn(\"day_encode\", dayofyear(df[\"FlightDate\"]) / lit(365))"
   ]
  },
  {
   "cell_type": "code",
   "execution_count": 64,
   "id": "8820d74e-06af-460d-8eda-199e3eda0969",
   "metadata": {},
   "outputs": [],
   "source": [
    "df = df.na.drop(subset=[\"DepDelayMinutes\", \"Year\", \"day_encode\",\"airport_latitude_origin\", \"airport_longitude_origin\",\"PRCP_origin\", \"Airline\"])\n"
   ]
  },
  {
   "cell_type": "code",
   "execution_count": 65,
   "id": "0935b467-0981-4b9c-841a-0ca0c4383d8d",
   "metadata": {},
   "outputs": [
    {
     "name": "stderr",
     "output_type": "stream",
     "text": [
      "                                                                                \r"
     ]
    },
    {
     "name": "stdout",
     "output_type": "stream",
     "text": [
      "20793839\n"
     ]
    },
    {
     "name": "stderr",
     "output_type": "stream",
     "text": [
      "[Stage 1223:=================================================>    (11 + 1) / 12]\r"
     ]
    },
    {
     "name": "stdout",
     "output_type": "stream",
     "text": [
      "3419875\n"
     ]
    },
    {
     "name": "stderr",
     "output_type": "stream",
     "text": [
      "                                                                                \r"
     ]
    }
   ],
   "source": [
    "train_data = df.filter((col(\"Year\") < 2021) | ((col(\"Year\") == 2021) & (col(\"day_encode\") <= 0.5)))\n",
    "test_data = df.filter((col(\"Year\") == 2021) & (col(\"day_encode\") > 0.5))\n",
    "print(train_data.count())\n",
    "print(test_data.count())"
   ]
  },
  {
   "cell_type": "code",
   "execution_count": 66,
   "id": "7c9dfbf5-67c6-4399-b872-081d70ad6295",
   "metadata": {},
   "outputs": [
    {
     "name": "stderr",
     "output_type": "stream",
     "text": [
      "                                                                                \r"
     ]
    }
   ],
   "source": [
    "airline_indexer = StringIndexer(inputCol=\"Airline\", outputCol=\"Airline_Encoded\", handleInvalid=\"skip\")\n",
    "train_data = airline_indexer.fit(train_data).transform(train_data)\n",
    "test_data = airline_indexer.fit(test_data).transform(test_data)"
   ]
  },
  {
   "cell_type": "code",
   "execution_count": 67,
   "id": "d1752924-0f41-49d3-8037-5f30301d517b",
   "metadata": {},
   "outputs": [],
   "source": [
    "feature_cols = [\"Year\", \"day_encode\", \"airport_latitude_origin\", \"airport_longitude_origin\", \"PRCP_origin\", \"Airline_Encoded\"]\n",
    "assembler = VectorAssembler(inputCols=feature_cols, outputCol=\"features\")\n",
    "train_data = assembler.transform(train_data).select(\"features\", \"DepDelayMinutes\")\n",
    "test_data = assembler.transform(test_data).select(\"features\", \"DepDelayMinutes\")"
   ]
  },
  {
   "cell_type": "markdown",
   "id": "e9721c12-3e56-4912-8c6b-4d57c241447e",
   "metadata": {},
   "source": [
    "## **3.1 - GBT Regressor Model**"
   ]
  },
  {
   "cell_type": "code",
   "execution_count": 79,
   "id": "757c22dc-8b3f-41f4-8183-eaecd1619925",
   "metadata": {},
   "outputs": [],
   "source": [
    "from pyspark.ml.regression import GBTRegressionModel,RandomForestRegressionModel\n",
    "from pyspark.ml.tuning import CrossValidatorModel"
   ]
  },
  {
   "cell_type": "code",
   "execution_count": 72,
   "id": "a9f79f7c-5366-49e8-963b-6d90a68cd2e2",
   "metadata": {},
   "outputs": [
    {
     "name": "stderr",
     "output_type": "stream",
     "text": [
      "                                                                                \r"
     ]
    }
   ],
   "source": [
    "\n",
    "model_path = f\"gs://msca-bdp-student-gcs/Group11/reethesh_delayminutes_gbt\"\n",
    "gbt_regr=GBTRegressionModel.load(model_path)"
   ]
  },
  {
   "cell_type": "code",
   "execution_count": 75,
   "id": "a43fbbd1-7dd1-44a3-8c06-b4feb7dd77e4",
   "metadata": {},
   "outputs": [
    {
     "name": "stderr",
     "output_type": "stream",
     "text": [
      "[Stage 1243:=================================================>    (11 + 1) / 12]\r"
     ]
    },
    {
     "name": "stdout",
     "output_type": "stream",
     "text": [
      "GBT Regression RMSE: 50.09323477890849\n"
     ]
    },
    {
     "name": "stderr",
     "output_type": "stream",
     "text": [
      "                                                                                \r"
     ]
    },
    {
     "data": {
      "text/plain": [
       "'\\ngbt = GBTRegressor(featuresCol=\"features\", labelCol=\"DepDelayMinutes\")\\n\\n# Parameter grid for maxIter and stepSize\\nparamGrid = ParamGridBuilder()     .addGrid(gbt.maxIter, [25, 50, 100])     .addGrid(gbt.stepSize, [0.05, 0.1])     .build()\\n\\n# Define the evaluator\\nevaluator = RegressionEvaluator(labelCol=\"DepDelayMinutes\", metricName=\"rmse\")\\n\\n# Define the cross-validator\\ncrossval = CrossValidator(\\n    estimator=gbt,\\n    estimatorParamMaps=paramGrid,\\n    evaluator=evaluator,\\n    numFolds=5,\\n    parallelism=2  # Adjust based on your cluster\\'s available cores\\n)\\n\\n# Fit the cross-validated model\\ncv_model = crossval.fit(train_data)\\n\\n# Retrieve the best model and parameters\\nbest_model = cv_model.bestModel\\nbest_maxIter = best_model._java_obj.getMaxIter()\\nprint(f\"Best maxIter: {best_maxIter}\")\\n'"
      ]
     },
     "execution_count": 75,
     "metadata": {},
     "output_type": "execute_result"
    }
   ],
   "source": [
    "from pyspark.ml.evaluation import RegressionEvaluator\n",
    "\n",
    "\n",
    "\n",
    "'''\n",
    "gbt = GBTRegressor(featuresCol=\"features\", labelCol=\"DepDelayMinutes\")\n",
    "\n",
    "# Parameter grid for maxIter and stepSize\n",
    "paramGrid = ParamGridBuilder() \\\n",
    "    .addGrid(gbt.maxIter, [25, 50, 100]) \\\n",
    "    .addGrid(gbt.stepSize, [0.05, 0.1]) \\\n",
    "    .build()\n",
    "\n",
    "# Define the evaluator\n",
    "evaluator = RegressionEvaluator(labelCol=\"DepDelayMinutes\", metricName=\"rmse\")\n",
    "\n",
    "# Define the cross-validator\n",
    "crossval = CrossValidator(\n",
    "    estimator=gbt,\n",
    "    estimatorParamMaps=paramGrid,\n",
    "    evaluator=evaluator,\n",
    "    numFolds=5,\n",
    "    parallelism=2  # Adjust based on your cluster's available cores\n",
    ")\n",
    "\n",
    "# Fit the cross-validated model\n",
    "cv_model = crossval.fit(train_data)\n",
    "\n",
    "# Retrieve the best model and parameters\n",
    "best_model = cv_model.bestModel\n",
    "best_maxIter = best_model._java_obj.getMaxIter()\n",
    "print(f\"Best maxIter: {best_maxIter}\")\n",
    "'''\n",
    "\n",
    "gbt_predictions = gbt_regr.transform(test_data)\n",
    "evaluator = RegressionEvaluator(labelCol=\"DepDelayMinutes\", predictionCol=\"prediction\", metricName=\"rmse\")\n",
    "gbt_rmse = evaluator.evaluate(gbt_predictions)\n",
    "print(f\"GBT Regression RMSE: {gbt_rmse}\")"
   ]
  },
  {
   "cell_type": "markdown",
   "id": "c11e01d8-4163-4f99-9bfc-9a64eedaeb3a",
   "metadata": {},
   "source": [
    "## **3.2 - Random Forest Model**"
   ]
  },
  {
   "cell_type": "code",
   "execution_count": 80,
   "id": "51f385c4-ecc1-4f07-baba-3d765339ce93",
   "metadata": {},
   "outputs": [
    {
     "name": "stderr",
     "output_type": "stream",
     "text": [
      "                                                                                \r"
     ]
    },
    {
     "data": {
      "text/plain": [
       "'rf = RandomForestRegressor(featuresCol=\"features\", labelCol=\"DepDelayMinutes\", predictionCol=\"prediction\")\\n\\nrf_param_grid = ParamGridBuilder()     .addGrid(rf.numTrees, [50, 100])     .addGrid(rf.maxDepth, [5, 10])     .build()\\n\\nrf_cv = CrossValidator(estimator=rf,\\n                        estimatorParamMaps=rf_param_grid,\\n                        evaluator=RegressionEvaluator(labelCol=\"DepDelayMinutes\", metricName=\"rmse\"),\\n                        numFolds=5,\\n                        parallelism=8)\\n\\nrf_model = rf_cv.fit(train_data)\\nmodel_path = f\"gs://msca-bdp-student-gcs/Group11/reethesh_delayminutes_rf\"\\nrf_model.write().overwrite().save(model_path)'"
      ]
     },
     "execution_count": 80,
     "metadata": {},
     "output_type": "execute_result"
    }
   ],
   "source": [
    "model_path = f\"gs://msca-bdp-student-gcs/Group11/reethesh_delayminutes_rf\"\n",
    "rf_regr=CrossValidatorModel.load(model_path)\n",
    "\n",
    "'''rf = RandomForestRegressor(featuresCol=\"features\", labelCol=\"DepDelayMinutes\", predictionCol=\"prediction\")\n",
    "\n",
    "rf_param_grid = ParamGridBuilder() \\\n",
    "    .addGrid(rf.numTrees, [50, 100]) \\\n",
    "    .addGrid(rf.maxDepth, [5, 10]) \\\n",
    "    .build()\n",
    "\n",
    "rf_cv = CrossValidator(estimator=rf,\n",
    "                        estimatorParamMaps=rf_param_grid,\n",
    "                        evaluator=RegressionEvaluator(labelCol=\"DepDelayMinutes\", metricName=\"rmse\"),\n",
    "                        numFolds=5,\n",
    "                        parallelism=8)\n",
    "\n",
    "rf_model = rf_cv.fit(train_data)\n",
    "model_path = f\"gs://msca-bdp-student-gcs/Group11/reethesh_delayminutes_rf\"\n",
    "rf_model.write().overwrite().save(model_path)'''"
   ]
  },
  {
   "cell_type": "code",
   "execution_count": 82,
   "id": "57040766-d2ce-4a4e-9507-8fff789c443e",
   "metadata": {},
   "outputs": [
    {
     "name": "stderr",
     "output_type": "stream",
     "text": [
      "[Stage 1266:=================================================>    (11 + 1) / 12]\r"
     ]
    },
    {
     "name": "stdout",
     "output_type": "stream",
     "text": [
      "Random Forest RMSE: 49.05921998406257\n"
     ]
    },
    {
     "name": "stderr",
     "output_type": "stream",
     "text": [
      "                                                                                \r"
     ]
    }
   ],
   "source": [
    "rf_predictions = rf_regr.bestModel.transform(test_data)\n",
    "rf_rmse = RegressionEvaluator(labelCol=\"DepDelayMinutes\", predictionCol=\"prediction\", metricName=\"rmse\").evaluate(rf_predictions)\n",
    "print(f\"Random Forest RMSE: {rf_rmse}\")"
   ]
  },
  {
   "cell_type": "markdown",
   "id": "37d7d598-e3ed-4c7f-8be1-4d049e875e63",
   "metadata": {},
   "source": [
    "# **4. Regression Models - To predict and quantify delay in arrivals** "
   ]
  },
  {
   "cell_type": "code",
   "execution_count": 83,
   "id": "3655cd01-6d42-40bf-8f2a-27257df28a56",
   "metadata": {},
   "outputs": [],
   "source": [
    "gcs_path = \"gs://msca-bdp-student-gcs/Group11/flight_weather_joined_2018_2021_v2.parquet\"\n",
    "df = spark.read.parquet(gcs_path)"
   ]
  },
  {
   "cell_type": "code",
   "execution_count": 84,
   "id": "6da4dd5c-6742-4d66-aa46-85840ee6da50",
   "metadata": {},
   "outputs": [],
   "source": [
    "df = df.withColumn(\"day_encode\", dayofyear(df[\"FlightDate\"]) / lit(365))"
   ]
  },
  {
   "cell_type": "code",
   "execution_count": 85,
   "id": "21adb349-bb35-43ad-a748-e55f7c4ae11d",
   "metadata": {},
   "outputs": [],
   "source": [
    "df = df.na.drop(subset=[\"ArrDelayMinutes\", \"Year\", \"day_encode\",\"airport_latitude_dest\", \"airport_longitude_dest\",\"PRCP_dest\", \"Airline\"])"
   ]
  },
  {
   "cell_type": "code",
   "execution_count": 86,
   "id": "9020875c-4e91-4e5f-a0d6-3cac76336129",
   "metadata": {},
   "outputs": [
    {
     "name": "stderr",
     "output_type": "stream",
     "text": [
      "[Stage 1269:=============================================>        (10 + 2) / 12]\r"
     ]
    },
    {
     "name": "stdout",
     "output_type": "stream",
     "text": [
      "-RECORD 0------------------------------------------\n",
      " FlightDate                              | 0       \n",
      " Airline                                 | 0       \n",
      " Origin                                  | 0       \n",
      " Dest                                    | 0       \n",
      " Cancelled                               | 0       \n",
      " Diverted                                | 0       \n",
      " CRSDepTime                              | 0       \n",
      " DepTime                                 | 1       \n",
      " DepDelayMinutes                         | 1073    \n",
      " DepDelay                                | 1073    \n",
      " ArrTime                                 | 2       \n",
      " ArrDelayMinutes                         | 0       \n",
      " AirTime                                 | 5862    \n",
      " CRSElapsedTime                          | 1       \n",
      " ActualElapsedTime                       | 2       \n",
      " Distance                                | 0       \n",
      " Year                                    | 0       \n",
      " Quarter                                 | 0       \n",
      " Month                                   | 0       \n",
      " DayofMonth                              | 0       \n",
      " DayOfWeek                               | 0       \n",
      " Marketing_Airline_Network               | 0       \n",
      " Operated_or_Branded_Code_Share_Partners | 0       \n",
      " DOT_ID_Marketing_Airline                | 0       \n",
      " IATA_Code_Marketing_Airline             | 0       \n",
      " Flight_Number_Marketing_Airline         | 0       \n",
      " Operating_Airline                       | 0       \n",
      " DOT_ID_Operating_Airline                | 0       \n",
      " IATA_Code_Operating_Airline             | 0       \n",
      " Tail_Number                             | 0       \n",
      " Flight_Number_Operating_Airline         | 0       \n",
      " OriginAirportID                         | 0       \n",
      " OriginAirportSeqID                      | 0       \n",
      " OriginCityMarketID                      | 0       \n",
      " OriginCityName                          | 0       \n",
      " OriginState                             | 0       \n",
      " OriginStateFips                         | 0       \n",
      " OriginStateName                         | 0       \n",
      " OriginWac                               | 0       \n",
      " DestAirportID                           | 0       \n",
      " DestAirportSeqID                        | 0       \n",
      " DestCityMarketID                        | 0       \n",
      " DestCityName                            | 0       \n",
      " DestState                               | 0       \n",
      " DestStateFips                           | 0       \n",
      " DestStateName                           | 0       \n",
      " DestWac                                 | 0       \n",
      " DepDel15                                | 1073    \n",
      " DepartureDelayGroups                    | 1073    \n",
      " DepTimeBlk                              | 0       \n",
      " TaxiOut                                 | 5856    \n",
      " WheelsOff                               | 5856    \n",
      " WheelsOn                                | 5852    \n",
      " TaxiIn                                  | 5853    \n",
      " CRSArrTime                              | 0       \n",
      " ArrDelay                                | 0       \n",
      " ArrDel15                                | 0       \n",
      " ArrivalDelayGroups                      | 0       \n",
      " ArrTimeBlk                              | 0       \n",
      " DistanceGroup                           | 0       \n",
      " DivAirportLandings                      | 78      \n",
      " iata_code_origin                        | 147343  \n",
      " municipality_origin                     | 147343  \n",
      " Date_origin                             | 147343  \n",
      " TMAX_origin                             | 2580945 \n",
      " TMIN_origin                             | 2584419 \n",
      " PRCP_origin                             | 247093  \n",
      " hvs_distance_origin                     | 147343  \n",
      " airport_latitude_origin                 | 147343  \n",
      " airport_longitude_origin                | 147343  \n",
      " weather_latitude_origin                 | 147343  \n",
      " weather_longitude_origin                | 147343  \n",
      " iata_code_dest                          | 0       \n",
      " municipality_dest                       | 0       \n",
      " Date_dest                               | 0       \n",
      " TMAX_dest                               | 2406000 \n",
      " TMIN_dest                               | 2409458 \n",
      " PRCP_dest                               | 0       \n",
      " hvs_distance_dest                       | 0       \n",
      " airport_latitude_dest                   | 0       \n",
      " airport_longitude_dest                  | 0       \n",
      " weather_latitude_dest                   | 0       \n",
      " weather_longitude_dest                  | 0       \n",
      " day_encode                              | 0       \n",
      "\n"
     ]
    },
    {
     "name": "stderr",
     "output_type": "stream",
     "text": [
      "                                                                                \r"
     ]
    }
   ],
   "source": [
    "df.select([sum(col(column).isNull().cast(\"int\")).alias(column) for column in df.columns]).show(vertical=True,truncate=False)"
   ]
  },
  {
   "cell_type": "code",
   "execution_count": 87,
   "id": "cb165aa2-6546-4712-87aa-49bc1a1c6721",
   "metadata": {},
   "outputs": [],
   "source": [
    "train_data = df.filter((col(\"Year\") < 2021) | ((col(\"Year\") == 2021) & (col(\"day_encode\") <= 0.5)))\n",
    "test_data = df.filter((col(\"Year\") == 2021) & (col(\"day_encode\") > 0.5))"
   ]
  },
  {
   "cell_type": "code",
   "execution_count": 88,
   "id": "4139f111-01da-40f8-b74b-cc1231e74f41",
   "metadata": {},
   "outputs": [
    {
     "name": "stderr",
     "output_type": "stream",
     "text": [
      "                                                                                \r"
     ]
    },
    {
     "name": "stdout",
     "output_type": "stream",
     "text": [
      "20734433\n"
     ]
    },
    {
     "name": "stderr",
     "output_type": "stream",
     "text": [
      "[Stage 1275:=================================================>    (11 + 1) / 12]\r"
     ]
    },
    {
     "name": "stdout",
     "output_type": "stream",
     "text": [
      "3409593\n"
     ]
    },
    {
     "name": "stderr",
     "output_type": "stream",
     "text": [
      "                                                                                \r"
     ]
    }
   ],
   "source": [
    "print(train_data.count())\n",
    "print(test_data.count())"
   ]
  },
  {
   "cell_type": "code",
   "execution_count": 89,
   "id": "426df086-b015-4ac1-8641-42ef15ff53eb",
   "metadata": {},
   "outputs": [
    {
     "name": "stderr",
     "output_type": "stream",
     "text": [
      "                                                                                \r"
     ]
    }
   ],
   "source": [
    "airline_indexer = StringIndexer(inputCol=\"Airline\", outputCol=\"Airline_Encoded\", handleInvalid=\"skip\")\n",
    "train_data = airline_indexer.fit(train_data).transform(train_data)\n",
    "test_data = airline_indexer.fit(test_data).transform(test_data)"
   ]
  },
  {
   "cell_type": "code",
   "execution_count": 90,
   "id": "2baad4ea-0564-4d7c-8c2c-e3f459e669f2",
   "metadata": {},
   "outputs": [],
   "source": [
    "feature_cols = [\"Year\", \"day_encode\", \"airport_latitude_dest\", \"airport_longitude_dest\", \"PRCP_dest\", \"Airline_Encoded\"]\n",
    "assembler = VectorAssembler(inputCols=feature_cols, outputCol=\"features\")"
   ]
  },
  {
   "cell_type": "code",
   "execution_count": 91,
   "id": "7e527b0c-5cd1-489e-82d5-0e1c2d6b1a37",
   "metadata": {},
   "outputs": [],
   "source": [
    "train_data = assembler.transform(train_data).select(\"features\", \"ArrDelayMinutes\")\n",
    "test_data = assembler.transform(test_data).select(\"features\", \"ArrDelayMinutes\")"
   ]
  },
  {
   "cell_type": "code",
   "execution_count": 92,
   "id": "1f7a97f7-d484-4366-b5cf-0e6a65e36169",
   "metadata": {},
   "outputs": [
    {
     "name": "stderr",
     "output_type": "stream",
     "text": [
      "                                                                                \r"
     ]
    }
   ],
   "source": [
    "train_data.write.mode(\"overwrite\").parquet(f\"gs://msca-bdp-student-gcs/Group11/reethesh_train_arr\")\n",
    "train_data.write.mode(\"overwrite\").parquet(f\"gs://msca-bdp-student-gcs/Group11/reethesh_test_arr\")"
   ]
  },
  {
   "cell_type": "markdown",
   "id": "2c12322f-c280-43cd-b3cb-89ed2988b4c1",
   "metadata": {},
   "source": [
    "## **4.1 GBT Regressor Model**"
   ]
  },
  {
   "cell_type": "code",
   "execution_count": 93,
   "id": "0e650977-7aeb-4bf8-ab99-23c648b0f858",
   "metadata": {},
   "outputs": [
    {
     "name": "stderr",
     "output_type": "stream",
     "text": [
      "                                                                                \r"
     ]
    }
   ],
   "source": [
    "\n",
    "model_path = f\"gs://msca-bdp-student-gcs/Group11/reethesh_arrminutes_gbt\"\n",
    "gbt_regr=GBTRegressionModel.load(model_path)"
   ]
  },
  {
   "cell_type": "code",
   "execution_count": 94,
   "id": "b1d71bcb-0597-4488-be19-6ebfe158d2aa",
   "metadata": {},
   "outputs": [
    {
     "name": "stderr",
     "output_type": "stream",
     "text": [
      "[Stage 1298:=====================================>                  (2 + 1) / 3]\r"
     ]
    },
    {
     "name": "stdout",
     "output_type": "stream",
     "text": [
      "GBT Regression RMSE: 49.26762584440581\n"
     ]
    },
    {
     "name": "stderr",
     "output_type": "stream",
     "text": [
      "                                                                                \r"
     ]
    }
   ],
   "source": [
    "'''\n",
    "gbt = GBTRegressor(featuresCol=\"features\", labelCol=\"ArrDelayMinutes\")\n",
    "\n",
    "paramGrid = ParamGridBuilder() \\\n",
    "    .addGrid(gbt.maxIter, [25, 50, 100]) \\\n",
    "    .addGrid(gbt.stepSize, [0.05, 0.1]) \\\n",
    "    .build()\n",
    "\n",
    "evaluator = RegressionEvaluator(labelCol=\"ArrDelayMinutes\", metricName=\"rmse\")\n",
    "\n",
    "crossval = CrossValidator(\n",
    "    estimator=gbt,\n",
    "    estimatorParamMaps=paramGrid,\n",
    "    evaluator=evaluator,\n",
    "    numFolds=5,\n",
    "    parallelism=8  # Adjust based on your cluster's available cores\n",
    ")\n",
    "\n",
    "cv_model = crossval.fit(train_data)\n",
    "\n",
    "best_model = cv_model.bestModel\n",
    "best_maxIter = best_model._java_obj.getMaxIter()\n",
    "print(f\"Best maxIter: {best_maxIter}\")\n",
    "'''\n",
    "model_path = f\"gs://msca-bdp-student-gcs/Group11/reethesh_arrminutes_gbt\"\n",
    "#best_model.write().overwrite().save(model_path)\n",
    "\n",
    "gbt_predictions = gbt_regr.transform(test_data)\n",
    "evaluator = RegressionEvaluator(labelCol=\"ArrDelayMinutes\", predictionCol=\"prediction\", metricName=\"rmse\")\n",
    "gbt_rmse = evaluator.evaluate(gbt_predictions)\n",
    "print(f\"GBT Regression RMSE: {gbt_rmse}\")"
   ]
  },
  {
   "cell_type": "code",
   "execution_count": 95,
   "id": "a2f30379-7391-4751-9c70-eb65a5c8cb3b",
   "metadata": {},
   "outputs": [],
   "source": [
    "model_path = f\"gs://msca-bdp-student-gcs/Group11/reethesh_arrminutes_gbt\"\n",
    "#best_model.write().overwrite().save(model_path)"
   ]
  },
  {
   "cell_type": "markdown",
   "id": "01eaff53-68d7-49ee-97c6-998ace5c546d",
   "metadata": {},
   "source": [
    "## **4.2 Random Forest Model**"
   ]
  },
  {
   "cell_type": "code",
   "execution_count": 99,
   "id": "e1f9a74d-f78a-43d2-b1ec-ca0004229dca",
   "metadata": {},
   "outputs": [
    {
     "name": "stderr",
     "output_type": "stream",
     "text": [
      "                                                                                \r"
     ]
    }
   ],
   "source": [
    "model_path = f\"gs://msca-bdp-student-gcs/Group11/reethesh_arrminutes_rf\"\n",
    "rf_regr=CrossValidatorModel.load(model_path)"
   ]
  },
  {
   "cell_type": "code",
   "execution_count": 100,
   "id": "08eb9687-bfac-4797-b26c-22a491a939a8",
   "metadata": {},
   "outputs": [
    {
     "data": {
      "text/plain": [
       "'rf = RandomForestRegressor(featuresCol=\"features\", labelCol=\"ArrDelayMinutes\", predictionCol=\"prediction\")\\n\\nrf_param_grid = ParamGridBuilder()     .addGrid(rf.numTrees, [50, 100])     .addGrid(rf.maxDepth, [5, 10])     .build()\\n\\nrf_cv = CrossValidator(estimator=rf,\\n                        estimatorParamMaps=rf_param_grid,\\n                        evaluator=RegressionEvaluator(labelCol=\"ArrDelayMinutes\", metricName=\"rmse\"),\\n                        numFolds=5,\\n                        parallelism=8)\\n\\nrf_model = rf_cv.fit(train_data)\\nmodel_path = f\"gs://msca-bdp-student-gcs/Group11/reethesh_arrminutes_rf\"\\nrf_model.write().overwrite().save(model_path)'"
      ]
     },
     "execution_count": 100,
     "metadata": {},
     "output_type": "execute_result"
    }
   ],
   "source": [
    "'''rf = RandomForestRegressor(featuresCol=\"features\", labelCol=\"ArrDelayMinutes\", predictionCol=\"prediction\")\n",
    "\n",
    "rf_param_grid = ParamGridBuilder() \\\n",
    "    .addGrid(rf.numTrees, [50, 100]) \\\n",
    "    .addGrid(rf.maxDepth, [5, 10]) \\\n",
    "    .build()\n",
    "\n",
    "rf_cv = CrossValidator(estimator=rf,\n",
    "                        estimatorParamMaps=rf_param_grid,\n",
    "                        evaluator=RegressionEvaluator(labelCol=\"ArrDelayMinutes\", metricName=\"rmse\"),\n",
    "                        numFolds=5,\n",
    "                        parallelism=8)\n",
    "\n",
    "rf_model = rf_cv.fit(train_data)\n",
    "model_path = f\"gs://msca-bdp-student-gcs/Group11/reethesh_arrminutes_rf\"\n",
    "rf_model.write().overwrite().save(model_path)'''"
   ]
  },
  {
   "cell_type": "code",
   "execution_count": 101,
   "id": "b8aecaab-bb71-43bc-9969-0c7c2dfd762a",
   "metadata": {},
   "outputs": [
    {
     "name": "stderr",
     "output_type": "stream",
     "text": [
      "[Stage 1319:=================================================>    (11 + 1) / 12]\r"
     ]
    },
    {
     "name": "stdout",
     "output_type": "stream",
     "text": [
      "Random Forest RMSE: 48.571967584181124\n"
     ]
    },
    {
     "name": "stderr",
     "output_type": "stream",
     "text": [
      "                                                                                \r"
     ]
    }
   ],
   "source": [
    "rf_predictions = rf_regr.transform(test_data)\n",
    "rf_rmse = RegressionEvaluator(labelCol=\"ArrDelayMinutes\", predictionCol=\"prediction\", metricName=\"rmse\").evaluate(rf_predictions)\n",
    "print(f\"Random Forest RMSE: {rf_rmse}\")"
   ]
  }
 ],
 "metadata": {
  "kernelspec": {
   "display_name": "Python 3 (ipykernel)",
   "language": "python",
   "name": "python3"
  },
  "language_info": {
   "codemirror_mode": {
    "name": "ipython",
    "version": 3
   },
   "file_extension": ".py",
   "mimetype": "text/x-python",
   "name": "python",
   "nbconvert_exporter": "python",
   "pygments_lexer": "ipython3",
   "version": "3.12.4"
  }
 },
 "nbformat": 4,
 "nbformat_minor": 5
}
